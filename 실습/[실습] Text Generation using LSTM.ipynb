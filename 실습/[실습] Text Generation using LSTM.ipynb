{
 "cells": [
  {
   "cell_type": "code",
   "execution_count": 7,
   "metadata": {},
   "outputs": [
    {
     "data": {
      "text/html": [
       "<div>\n",
       "<style scoped>\n",
       "    .dataframe tbody tr th:only-of-type {\n",
       "        vertical-align: middle;\n",
       "    }\n",
       "\n",
       "    .dataframe tbody tr th {\n",
       "        vertical-align: top;\n",
       "    }\n",
       "\n",
       "    .dataframe thead th {\n",
       "        text-align: right;\n",
       "    }\n",
       "</style>\n",
       "<table border=\"1\" class=\"dataframe\">\n",
       "  <thead>\n",
       "    <tr style=\"text-align: right;\">\n",
       "      <th></th>\n",
       "      <th>articleID</th>\n",
       "      <th>articleWordCount</th>\n",
       "      <th>byline</th>\n",
       "      <th>documentType</th>\n",
       "      <th>headline</th>\n",
       "      <th>keywords</th>\n",
       "      <th>multimedia</th>\n",
       "      <th>newDesk</th>\n",
       "      <th>printPage</th>\n",
       "      <th>pubDate</th>\n",
       "      <th>sectionName</th>\n",
       "      <th>snippet</th>\n",
       "      <th>source</th>\n",
       "      <th>typeOfMaterial</th>\n",
       "      <th>webURL</th>\n",
       "    </tr>\n",
       "  </thead>\n",
       "  <tbody>\n",
       "    <tr>\n",
       "      <th>0</th>\n",
       "      <td>5adf6684068401528a2aa69b</td>\n",
       "      <td>781</td>\n",
       "      <td>By JOHN BRANCH</td>\n",
       "      <td>article</td>\n",
       "      <td>Former N.F.L. Cheerleaders’ Settlement Offer: ...</td>\n",
       "      <td>['Workplace Hazards and Violations', 'Football...</td>\n",
       "      <td>68</td>\n",
       "      <td>Sports</td>\n",
       "      <td>0</td>\n",
       "      <td>2018-04-24 17:16:49</td>\n",
       "      <td>Pro Football</td>\n",
       "      <td>“I understand that they could meet with us, pa...</td>\n",
       "      <td>The New York Times</td>\n",
       "      <td>News</td>\n",
       "      <td>https://www.nytimes.com/2018/04/24/sports/foot...</td>\n",
       "    </tr>\n",
       "    <tr>\n",
       "      <th>1</th>\n",
       "      <td>5adf653f068401528a2aa697</td>\n",
       "      <td>656</td>\n",
       "      <td>By LISA FRIEDMAN</td>\n",
       "      <td>article</td>\n",
       "      <td>E.P.A. to Unveil a New Rule. Its Effect: Less ...</td>\n",
       "      <td>['Environmental Protection Agency', 'Pruitt, S...</td>\n",
       "      <td>68</td>\n",
       "      <td>Climate</td>\n",
       "      <td>0</td>\n",
       "      <td>2018-04-24 17:11:21</td>\n",
       "      <td>Unknown</td>\n",
       "      <td>The agency plans to publish a new regulation T...</td>\n",
       "      <td>The New York Times</td>\n",
       "      <td>News</td>\n",
       "      <td>https://www.nytimes.com/2018/04/24/climate/epa...</td>\n",
       "    </tr>\n",
       "    <tr>\n",
       "      <th>2</th>\n",
       "      <td>5adf4626068401528a2aa628</td>\n",
       "      <td>2427</td>\n",
       "      <td>By PETE WELLS</td>\n",
       "      <td>article</td>\n",
       "      <td>The New Noma, Explained</td>\n",
       "      <td>['Restaurants', 'Noma (Copenhagen, Restaurant)...</td>\n",
       "      <td>66</td>\n",
       "      <td>Dining</td>\n",
       "      <td>0</td>\n",
       "      <td>2018-04-24 14:58:44</td>\n",
       "      <td>Unknown</td>\n",
       "      <td>What’s it like to eat at the second incarnatio...</td>\n",
       "      <td>The New York Times</td>\n",
       "      <td>News</td>\n",
       "      <td>https://www.nytimes.com/2018/04/24/dining/noma...</td>\n",
       "    </tr>\n",
       "    <tr>\n",
       "      <th>3</th>\n",
       "      <td>5adf40d2068401528a2aa619</td>\n",
       "      <td>626</td>\n",
       "      <td>By JULIE HIRSCHFELD DAVIS and PETER BAKER</td>\n",
       "      <td>article</td>\n",
       "      <td>Unknown</td>\n",
       "      <td>['Macron, Emmanuel (1977- )', 'Trump, Donald J...</td>\n",
       "      <td>68</td>\n",
       "      <td>Washington</td>\n",
       "      <td>0</td>\n",
       "      <td>2018-04-24 14:35:57</td>\n",
       "      <td>Europe</td>\n",
       "      <td>President Trump welcomed President Emmanuel Ma...</td>\n",
       "      <td>The New York Times</td>\n",
       "      <td>News</td>\n",
       "      <td>https://www.nytimes.com/2018/04/24/world/europ...</td>\n",
       "    </tr>\n",
       "    <tr>\n",
       "      <th>4</th>\n",
       "      <td>5adf3d64068401528a2aa60f</td>\n",
       "      <td>815</td>\n",
       "      <td>By IAN AUSTEN and DAN BILEFSKY</td>\n",
       "      <td>article</td>\n",
       "      <td>Unknown</td>\n",
       "      <td>['Toronto, Ontario, Attack (April, 2018)', 'Mu...</td>\n",
       "      <td>68</td>\n",
       "      <td>Foreign</td>\n",
       "      <td>0</td>\n",
       "      <td>2018-04-24 14:21:21</td>\n",
       "      <td>Canada</td>\n",
       "      <td>Alek Minassian, 25, a resident of Toronto’s Ri...</td>\n",
       "      <td>The New York Times</td>\n",
       "      <td>News</td>\n",
       "      <td>https://www.nytimes.com/2018/04/24/world/canad...</td>\n",
       "    </tr>\n",
       "  </tbody>\n",
       "</table>\n",
       "</div>"
      ],
      "text/plain": [
       "                  articleID  articleWordCount  \\\n",
       "0  5adf6684068401528a2aa69b               781   \n",
       "1  5adf653f068401528a2aa697               656   \n",
       "2  5adf4626068401528a2aa628              2427   \n",
       "3  5adf40d2068401528a2aa619               626   \n",
       "4  5adf3d64068401528a2aa60f               815   \n",
       "\n",
       "                                      byline documentType  \\\n",
       "0                             By JOHN BRANCH      article   \n",
       "1                           By LISA FRIEDMAN      article   \n",
       "2                              By PETE WELLS      article   \n",
       "3  By JULIE HIRSCHFELD DAVIS and PETER BAKER      article   \n",
       "4             By IAN AUSTEN and DAN BILEFSKY      article   \n",
       "\n",
       "                                            headline  \\\n",
       "0  Former N.F.L. Cheerleaders’ Settlement Offer: ...   \n",
       "1  E.P.A. to Unveil a New Rule. Its Effect: Less ...   \n",
       "2                            The New Noma, Explained   \n",
       "3                                            Unknown   \n",
       "4                                            Unknown   \n",
       "\n",
       "                                            keywords  multimedia     newDesk  \\\n",
       "0  ['Workplace Hazards and Violations', 'Football...          68      Sports   \n",
       "1  ['Environmental Protection Agency', 'Pruitt, S...          68     Climate   \n",
       "2  ['Restaurants', 'Noma (Copenhagen, Restaurant)...          66      Dining   \n",
       "3  ['Macron, Emmanuel (1977- )', 'Trump, Donald J...          68  Washington   \n",
       "4  ['Toronto, Ontario, Attack (April, 2018)', 'Mu...          68     Foreign   \n",
       "\n",
       "   printPage              pubDate   sectionName  \\\n",
       "0          0  2018-04-24 17:16:49  Pro Football   \n",
       "1          0  2018-04-24 17:11:21       Unknown   \n",
       "2          0  2018-04-24 14:58:44       Unknown   \n",
       "3          0  2018-04-24 14:35:57        Europe   \n",
       "4          0  2018-04-24 14:21:21        Canada   \n",
       "\n",
       "                                             snippet              source  \\\n",
       "0  “I understand that they could meet with us, pa...  The New York Times   \n",
       "1  The agency plans to publish a new regulation T...  The New York Times   \n",
       "2  What’s it like to eat at the second incarnatio...  The New York Times   \n",
       "3  President Trump welcomed President Emmanuel Ma...  The New York Times   \n",
       "4  Alek Minassian, 25, a resident of Toronto’s Ri...  The New York Times   \n",
       "\n",
       "  typeOfMaterial                                             webURL  \n",
       "0           News  https://www.nytimes.com/2018/04/24/sports/foot...  \n",
       "1           News  https://www.nytimes.com/2018/04/24/climate/epa...  \n",
       "2           News  https://www.nytimes.com/2018/04/24/dining/noma...  \n",
       "3           News  https://www.nytimes.com/2018/04/24/world/europ...  \n",
       "4           News  https://www.nytimes.com/2018/04/24/world/canad...  "
      ]
     },
     "execution_count": 7,
     "metadata": {},
     "output_type": "execute_result"
    }
   ],
   "source": [
    "# ------ 1. 데이터 전처리 ------\n",
    "# 데이터 링크 : https://www.kaggle.com/aashita/nyt-comments\n",
    "import pandas as pd\n",
    "import re\n",
    "from tensorflow.keras.preprocessing.text import Tokenizer\n",
    "from tensorflow.keras.preprocessing.sequence import pad_sequences\n",
    "import numpy as np\n",
    "from tensorflow.keras.utils import to_categorical\n",
    "\n",
    "df = pd.read_csv('ArticlesApril2018.csv')\n",
    "df.head()"
   ]
  },
  {
   "cell_type": "code",
   "execution_count": 8,
   "metadata": {},
   "outputs": [
    {
     "data": {
      "text/plain": [
       "0"
      ]
     },
     "execution_count": 8,
     "metadata": {},
     "output_type": "execute_result"
    }
   ],
   "source": [
    "df['headline'].isnull().sum()"
   ]
  },
  {
   "cell_type": "code",
   "execution_count": 9,
   "metadata": {},
   "outputs": [
    {
     "data": {
      "text/plain": [
       "['Former N.F.L. Cheerleaders’ Settlement Offer: $1 and a Meeting With Goodell',\n",
       " 'E.P.A. to Unveil a New Rule. Its Effect: Less Science in Policymaking.',\n",
       " 'The New Noma, Explained',\n",
       " 'Unknown',\n",
       " 'Unknown']"
      ]
     },
     "execution_count": 9,
     "metadata": {},
     "output_type": "execute_result"
    }
   ],
   "source": [
    "headline = df['headline'].tolist()\n",
    "headline[:5]"
   ]
  },
  {
   "cell_type": "code",
   "execution_count": 10,
   "metadata": {},
   "outputs": [
    {
     "name": "stdout",
     "output_type": "stream",
     "text": [
      "총 헤드라인 개수 :  1324\n",
      "Unknown 제거 후 헤드라인 개수:  1214\n"
     ]
    }
   ],
   "source": [
    "print('총 헤드라인 개수 : ', len(headline))\n",
    "headline = [h for h in headline if h != 'Unknown']\n",
    "print('Unknown 제거 후 헤드라인 개수: ', len(headline))"
   ]
  },
  {
   "cell_type": "code",
   "execution_count": 11,
   "metadata": {},
   "outputs": [
    {
     "data": {
      "text/plain": [
       "['Former N.F.L. Cheerleaders’ Settlement Offer: $1 and a Meeting With Goodell',\n",
       " 'E.P.A. to Unveil a New Rule. Its Effect: Less Science in Policymaking.',\n",
       " 'The New Noma, Explained',\n",
       " 'How a Bag of Texas Dirt  Became a Times Tradition',\n",
       " 'Is School a Place for Self-Expression?']"
      ]
     },
     "execution_count": 11,
     "metadata": {},
     "output_type": "execute_result"
    }
   ],
   "source": [
    "headline[:5]"
   ]
  },
  {
   "cell_type": "code",
   "execution_count": 18,
   "metadata": {},
   "outputs": [
    {
     "data": {
      "text/plain": [
       "['former nfl cheerleaders settlement offer 1 and a meeting with goodell',\n",
       " 'epa to unveil a new rule its effect less science in policymaking',\n",
       " 'the new noma explained',\n",
       " 'how a bag of texas dirt  became a times tradition',\n",
       " 'is school a place for selfexpression']"
      ]
     },
     "execution_count": 18,
     "metadata": {},
     "output_type": "execute_result"
    }
   ],
   "source": [
    "# 구두점 제거, 소문자화\n",
    "def reprocessing(s):\n",
    "    s = re.sub(r'[^\\w ]', '', s).lower()\n",
    "    return s\n",
    "\n",
    "text = [reprocessing(h) for h in headline]\n",
    "text[:5]"
   ]
  },
  {
   "cell_type": "code",
   "execution_count": 19,
   "metadata": {},
   "outputs": [
    {
     "name": "stdout",
     "output_type": "stream",
     "text": [
      "단어 집합의 크기:  3494\n"
     ]
    }
   ],
   "source": [
    "# 단어 집합의 크기\n",
    "t = Tokenizer()\n",
    "t.fit_on_texts(text)\n",
    "vocab_size = len(t.word_index) + 1\n",
    "print('단어 집합의 크기: ', vocab_size)\n"
   ]
  },
  {
   "cell_type": "code",
   "execution_count": 28,
   "metadata": {},
   "outputs": [
    {
     "data": {
      "text/plain": [
       "[[99, 269],\n",
       " [99, 269, 371],\n",
       " [99, 269, 371, 1115],\n",
       " [99, 269, 371, 1115, 582],\n",
       " [99, 269, 371, 1115, 582, 52],\n",
       " [99, 269, 371, 1115, 582, 52, 7],\n",
       " [99, 269, 371, 1115, 582, 52, 7, 2],\n",
       " [99, 269, 371, 1115, 582, 52, 7, 2, 372],\n",
       " [99, 269, 371, 1115, 582, 52, 7, 2, 372, 10],\n",
       " [99, 269, 371, 1115, 582, 52, 7, 2, 372, 10, 1116],\n",
       " [100, 3]]"
      ]
     },
     "execution_count": 28,
     "metadata": {},
     "output_type": "execute_result"
    }
   ],
   "source": [
    "sequences = []\n",
    "\n",
    "for line in text:\n",
    "    encoded = t.texts_to_sequences([line])[0]\n",
    "    for i in range(1, len(encoded)):\n",
    "        sequence = encoded[:i+1]\n",
    "        sequences.append(sequence)\n",
    "        \n",
    "sequences[:11]\n"
   ]
  },
  {
   "cell_type": "code",
   "execution_count": 30,
   "metadata": {},
   "outputs": [
    {
     "name": "stdout",
     "output_type": "stream",
     "text": [
      "disaster\n"
     ]
    }
   ],
   "source": [
    "# 인덱스로부터 단어를 찾는 딕셔너리 생성\n",
    "index_to_word = {}\n",
    "for key, value in t.word_index.items():\n",
    "    index_to_word[value] = key\n",
    "    \n",
    "print(index_to_word[831])\n"
   ]
  },
  {
   "cell_type": "code",
   "execution_count": 31,
   "metadata": {},
   "outputs": [
    {
     "name": "stdout",
     "output_type": "stream",
     "text": [
      "샘플의 최대 길이:  24\n"
     ]
    }
   ],
   "source": [
    "# 패딩 작업위해 가장 긴 샘플의 길이 확인\n",
    "max_len = max(len(s) for s in sequences)\n",
    "print('샘플의 최대 길이: ', max_len)\n"
   ]
  },
  {
   "cell_type": "code",
   "execution_count": 34,
   "metadata": {},
   "outputs": [
    {
     "name": "stdout",
     "output_type": "stream",
     "text": [
      "[[   0    0    0    0    0    0    0    0    0    0    0    0    0    0\n",
      "     0    0    0    0    0    0    0    0   99  269]\n",
      " [   0    0    0    0    0    0    0    0    0    0    0    0    0    0\n",
      "     0    0    0    0    0    0    0   99  269  371]\n",
      " [   0    0    0    0    0    0    0    0    0    0    0    0    0    0\n",
      "     0    0    0    0    0    0   99  269  371 1115]]\n"
     ]
    }
   ],
   "source": [
    "sequences = pad_sequences(sequences, maxlen=max_len, padding='pre')\n",
    "print(sequences[:3])"
   ]
  },
  {
   "cell_type": "code",
   "execution_count": 35,
   "metadata": {},
   "outputs": [],
   "source": [
    "sequences = np.array(sequences)\n",
    "X = sequences[:, :-1]\n",
    "y = sequences[:, -1]"
   ]
  },
  {
   "cell_type": "code",
   "execution_count": 36,
   "metadata": {},
   "outputs": [
    {
     "name": "stdout",
     "output_type": "stream",
     "text": [
      "[[  0   0   0   0   0   0   0   0   0   0   0   0   0   0   0   0   0   0\n",
      "    0   0   0   0  99]\n",
      " [  0   0   0   0   0   0   0   0   0   0   0   0   0   0   0   0   0   0\n",
      "    0   0   0  99 269]\n",
      " [  0   0   0   0   0   0   0   0   0   0   0   0   0   0   0   0   0   0\n",
      "    0   0  99 269 371]]\n"
     ]
    }
   ],
   "source": [
    "print(X[:3])"
   ]
  },
  {
   "cell_type": "code",
   "execution_count": 37,
   "metadata": {},
   "outputs": [
    {
     "name": "stdout",
     "output_type": "stream",
     "text": [
      "[ 269  371 1115]\n"
     ]
    }
   ],
   "source": [
    "print(y[:3])"
   ]
  },
  {
   "cell_type": "code",
   "execution_count": 38,
   "metadata": {},
   "outputs": [],
   "source": [
    "# 레이블 y를 원-핫 인코딩\n",
    "y = to_categorical(y)"
   ]
  },
  {
   "cell_type": "code",
   "execution_count": 40,
   "metadata": {},
   "outputs": [
    {
     "name": "stdout",
     "output_type": "stream",
     "text": [
      "[[0. 0. 0. ... 0. 0. 0.]\n",
      " [0. 0. 0. ... 0. 0. 0.]\n",
      " [0. 0. 0. ... 0. 0. 0.]\n",
      " ...\n",
      " [0. 0. 0. ... 0. 0. 0.]\n",
      " [0. 0. 1. ... 0. 0. 0.]\n",
      " [0. 0. 0. ... 0. 0. 0.]]\n"
     ]
    }
   ],
   "source": [
    "print(y)"
   ]
  },
  {
   "cell_type": "code",
   "execution_count": 42,
   "metadata": {},
   "outputs": [
    {
     "name": "stdout",
     "output_type": "stream",
     "text": [
      "Epoch 1/200\n",
      "244/244 - 4s - loss: 7.6293 - accuracy: 0.0260\n",
      "Epoch 2/200\n",
      "244/244 - 4s - loss: 7.1073 - accuracy: 0.0301\n",
      "Epoch 3/200\n",
      "244/244 - 4s - loss: 6.9658 - accuracy: 0.0342\n",
      "Epoch 4/200\n",
      "244/244 - 4s - loss: 6.8324 - accuracy: 0.0411\n",
      "Epoch 5/200\n",
      "244/244 - 4s - loss: 6.6684 - accuracy: 0.0443\n",
      "Epoch 6/200\n",
      "244/244 - 4s - loss: 6.4976 - accuracy: 0.0502\n",
      "Epoch 7/200\n",
      "244/244 - 4s - loss: 6.3061 - accuracy: 0.0552\n",
      "Epoch 8/200\n",
      "244/244 - 4s - loss: 6.1078 - accuracy: 0.0607\n",
      "Epoch 9/200\n",
      "244/244 - 4s - loss: 5.9139 - accuracy: 0.0638\n",
      "Epoch 10/200\n",
      "244/244 - 4s - loss: 5.7336 - accuracy: 0.0654\n",
      "Epoch 11/200\n",
      "244/244 - 4s - loss: 5.5599 - accuracy: 0.0720\n",
      "Epoch 12/200\n",
      "244/244 - 4s - loss: 5.3996 - accuracy: 0.0742\n",
      "Epoch 13/200\n",
      "244/244 - 4s - loss: 5.2418 - accuracy: 0.0824\n",
      "Epoch 14/200\n",
      "244/244 - 4s - loss: 5.0982 - accuracy: 0.0920\n",
      "Epoch 15/200\n",
      "244/244 - 4s - loss: 4.9560 - accuracy: 0.1002\n",
      "Epoch 16/200\n",
      "244/244 - 4s - loss: 4.8182 - accuracy: 0.1116\n",
      "Epoch 17/200\n",
      "244/244 - 4s - loss: 4.6877 - accuracy: 0.1216\n",
      "Epoch 18/200\n",
      "244/244 - 4s - loss: 4.5571 - accuracy: 0.1352\n",
      "Epoch 19/200\n",
      "244/244 - 4s - loss: 4.4377 - accuracy: 0.1530\n",
      "Epoch 20/200\n",
      "244/244 - 4s - loss: 4.3173 - accuracy: 0.1669\n",
      "Epoch 21/200\n",
      "244/244 - 4s - loss: 4.2006 - accuracy: 0.1881\n",
      "Epoch 22/200\n",
      "244/244 - 4s - loss: 4.0873 - accuracy: 0.2004\n",
      "Epoch 23/200\n",
      "244/244 - 4s - loss: 3.9761 - accuracy: 0.2186\n",
      "Epoch 24/200\n",
      "244/244 - 4s - loss: 3.8711 - accuracy: 0.2364\n",
      "Epoch 25/200\n",
      "244/244 - 4s - loss: 3.7651 - accuracy: 0.2535\n",
      "Epoch 26/200\n",
      "244/244 - 4s - loss: 3.6658 - accuracy: 0.2681\n",
      "Epoch 27/200\n",
      "244/244 - 4s - loss: 3.5699 - accuracy: 0.2869\n",
      "Epoch 28/200\n",
      "244/244 - 4s - loss: 3.4757 - accuracy: 0.3013\n",
      "Epoch 29/200\n",
      "244/244 - 4s - loss: 3.3878 - accuracy: 0.3183\n",
      "Epoch 30/200\n",
      "244/244 - 4s - loss: 3.3013 - accuracy: 0.3300\n",
      "Epoch 31/200\n",
      "244/244 - 4s - loss: 3.2135 - accuracy: 0.3487\n",
      "Epoch 32/200\n",
      "244/244 - 4s - loss: 3.1328 - accuracy: 0.3600\n",
      "Epoch 33/200\n",
      "244/244 - 4s - loss: 3.0543 - accuracy: 0.3761\n",
      "Epoch 34/200\n",
      "244/244 - 4s - loss: 2.9780 - accuracy: 0.3918\n",
      "Epoch 35/200\n",
      "244/244 - 4s - loss: 2.9044 - accuracy: 0.4087\n",
      "Epoch 36/200\n",
      "244/244 - 4s - loss: 2.8341 - accuracy: 0.4175\n",
      "Epoch 37/200\n",
      "244/244 - 4s - loss: 2.7636 - accuracy: 0.4360\n",
      "Epoch 38/200\n",
      "244/244 - 4s - loss: 2.6987 - accuracy: 0.4432\n",
      "Epoch 39/200\n",
      "244/244 - 4s - loss: 2.6322 - accuracy: 0.4596\n",
      "Epoch 40/200\n",
      "244/244 - 4s - loss: 2.5692 - accuracy: 0.4739\n",
      "Epoch 41/200\n",
      "244/244 - 5s - loss: 2.5111 - accuracy: 0.4903\n",
      "Epoch 42/200\n",
      "244/244 - 4s - loss: 2.4510 - accuracy: 0.4996\n",
      "Epoch 43/200\n",
      "244/244 - 4s - loss: 2.3926 - accuracy: 0.5107\n",
      "Epoch 44/200\n",
      "244/244 - 4s - loss: 2.3408 - accuracy: 0.5174\n",
      "Epoch 45/200\n",
      "244/244 - 4s - loss: 2.2842 - accuracy: 0.5317\n",
      "Epoch 46/200\n",
      "244/244 - 4s - loss: 2.2300 - accuracy: 0.5462\n",
      "Epoch 47/200\n",
      "244/244 - 4s - loss: 2.1782 - accuracy: 0.5545\n",
      "Epoch 48/200\n",
      "244/244 - 4s - loss: 2.1278 - accuracy: 0.5653\n",
      "Epoch 49/200\n",
      "244/244 - 4s - loss: 2.0802 - accuracy: 0.5805\n",
      "Epoch 50/200\n",
      "244/244 - 4s - loss: 2.0286 - accuracy: 0.5873\n",
      "Epoch 51/200\n",
      "244/244 - 4s - loss: 1.9807 - accuracy: 0.5995\n",
      "Epoch 52/200\n",
      "244/244 - 4s - loss: 1.9379 - accuracy: 0.6080\n",
      "Epoch 53/200\n",
      "244/244 - 4s - loss: 1.8897 - accuracy: 0.6153\n",
      "Epoch 54/200\n",
      "244/244 - 4s - loss: 1.8479 - accuracy: 0.6232\n",
      "Epoch 55/200\n",
      "244/244 - 4s - loss: 1.8048 - accuracy: 0.6328\n",
      "Epoch 56/200\n",
      "244/244 - 4s - loss: 1.7644 - accuracy: 0.6435\n",
      "Epoch 57/200\n",
      "244/244 - 4s - loss: 1.7193 - accuracy: 0.6542\n",
      "Epoch 58/200\n",
      "244/244 - 4s - loss: 1.6820 - accuracy: 0.6641\n",
      "Epoch 59/200\n",
      "244/244 - 4s - loss: 1.6413 - accuracy: 0.6699\n",
      "Epoch 60/200\n",
      "244/244 - 4s - loss: 1.6045 - accuracy: 0.6769\n",
      "Epoch 61/200\n",
      "244/244 - 4s - loss: 1.5659 - accuracy: 0.6827\n",
      "Epoch 62/200\n",
      "244/244 - 4s - loss: 1.5283 - accuracy: 0.6938\n",
      "Epoch 63/200\n",
      "244/244 - 5s - loss: 1.4935 - accuracy: 0.6988\n",
      "Epoch 64/200\n",
      "244/244 - 4s - loss: 1.4590 - accuracy: 0.7068\n",
      "Epoch 65/200\n",
      "244/244 - 4s - loss: 1.4227 - accuracy: 0.7116\n",
      "Epoch 66/200\n",
      "244/244 - 4s - loss: 1.3893 - accuracy: 0.7210\n",
      "Epoch 67/200\n",
      "244/244 - 4s - loss: 1.3560 - accuracy: 0.7286\n",
      "Epoch 68/200\n",
      "244/244 - 4s - loss: 1.3251 - accuracy: 0.7322\n",
      "Epoch 69/200\n",
      "244/244 - 4s - loss: 1.2950 - accuracy: 0.7422\n",
      "Epoch 70/200\n",
      "244/244 - 4s - loss: 1.2626 - accuracy: 0.7486\n",
      "Epoch 71/200\n",
      "244/244 - 5s - loss: 1.2357 - accuracy: 0.7543\n",
      "Epoch 72/200\n",
      "244/244 - 4s - loss: 1.2034 - accuracy: 0.7615\n",
      "Epoch 73/200\n",
      "244/244 - 4s - loss: 1.1747 - accuracy: 0.7652\n",
      "Epoch 74/200\n",
      "244/244 - 4s - loss: 1.1468 - accuracy: 0.7712\n",
      "Epoch 75/200\n",
      "244/244 - 4s - loss: 1.1208 - accuracy: 0.7747\n",
      "Epoch 76/200\n",
      "244/244 - 4s - loss: 1.0933 - accuracy: 0.7820\n",
      "Epoch 77/200\n",
      "244/244 - 4s - loss: 1.0690 - accuracy: 0.7874\n",
      "Epoch 78/200\n",
      "244/244 - 4s - loss: 1.0426 - accuracy: 0.7924\n",
      "Epoch 79/200\n",
      "244/244 - 4s - loss: 1.0177 - accuracy: 0.7982\n",
      "Epoch 80/200\n",
      "244/244 - 4s - loss: 0.9973 - accuracy: 0.8007\n",
      "Epoch 81/200\n",
      "244/244 - 4s - loss: 0.9776 - accuracy: 0.8107\n",
      "Epoch 82/200\n",
      "244/244 - 4s - loss: 0.9504 - accuracy: 0.8114\n",
      "Epoch 83/200\n",
      "244/244 - 4s - loss: 0.9267 - accuracy: 0.8172\n",
      "Epoch 84/200\n",
      "244/244 - 4s - loss: 0.9042 - accuracy: 0.8228\n",
      "Epoch 85/200\n",
      "244/244 - 5s - loss: 0.8860 - accuracy: 0.8234\n",
      "Epoch 86/200\n",
      "244/244 - 4s - loss: 0.8661 - accuracy: 0.8269\n",
      "Epoch 87/200\n",
      "244/244 - 4s - loss: 0.8442 - accuracy: 0.8361\n",
      "Epoch 88/200\n",
      "244/244 - 4s - loss: 0.8268 - accuracy: 0.8366\n",
      "Epoch 89/200\n",
      "244/244 - 4s - loss: 0.8082 - accuracy: 0.8393\n",
      "Epoch 90/200\n",
      "244/244 - 4s - loss: 0.7957 - accuracy: 0.8447\n",
      "Epoch 91/200\n",
      "244/244 - 4s - loss: 0.7762 - accuracy: 0.8461\n",
      "Epoch 92/200\n",
      "244/244 - 4s - loss: 0.7549 - accuracy: 0.8503\n",
      "Epoch 93/200\n",
      "244/244 - 4s - loss: 0.7361 - accuracy: 0.8540\n",
      "Epoch 94/200\n",
      "244/244 - 4s - loss: 0.7222 - accuracy: 0.8583\n",
      "Epoch 95/200\n",
      "244/244 - 4s - loss: 0.7056 - accuracy: 0.8630\n",
      "Epoch 96/200\n",
      "244/244 - 5s - loss: 0.6942 - accuracy: 0.8621\n",
      "Epoch 97/200\n",
      "244/244 - 4s - loss: 0.6741 - accuracy: 0.8683\n",
      "Epoch 98/200\n",
      "244/244 - 5s - loss: 0.6594 - accuracy: 0.8680\n",
      "Epoch 99/200\n",
      "244/244 - 4s - loss: 0.6455 - accuracy: 0.8708\n",
      "Epoch 100/200\n",
      "244/244 - 4s - loss: 0.6323 - accuracy: 0.8745\n",
      "Epoch 101/200\n",
      "244/244 - 4s - loss: 0.6184 - accuracy: 0.8775\n",
      "Epoch 102/200\n",
      "244/244 - 4s - loss: 0.6108 - accuracy: 0.8776\n",
      "Epoch 103/200\n",
      "244/244 - 5s - loss: 0.5960 - accuracy: 0.8797\n",
      "Epoch 104/200\n",
      "244/244 - 4s - loss: 0.5815 - accuracy: 0.8825\n",
      "Epoch 105/200\n",
      "244/244 - 4s - loss: 0.5693 - accuracy: 0.8861\n",
      "Epoch 106/200\n",
      "244/244 - 4s - loss: 0.5592 - accuracy: 0.8871\n",
      "Epoch 107/200\n",
      "244/244 - 4s - loss: 0.5499 - accuracy: 0.8888\n",
      "Epoch 108/200\n",
      "244/244 - 5s - loss: 0.5422 - accuracy: 0.8894\n",
      "Epoch 109/200\n",
      "244/244 - 4s - loss: 0.5256 - accuracy: 0.8918\n",
      "Epoch 110/200\n",
      "244/244 - 4s - loss: 0.5145 - accuracy: 0.8949\n",
      "Epoch 111/200\n",
      "244/244 - 4s - loss: 0.5042 - accuracy: 0.8947\n",
      "Epoch 112/200\n",
      "244/244 - 4s - loss: 0.4953 - accuracy: 0.8977\n",
      "Epoch 113/200\n",
      "244/244 - 4s - loss: 0.4867 - accuracy: 0.8968\n",
      "Epoch 114/200\n",
      "244/244 - 4s - loss: 0.4788 - accuracy: 0.8989\n",
      "Epoch 115/200\n",
      "244/244 - 4s - loss: 0.4716 - accuracy: 0.8993\n",
      "Epoch 116/200\n",
      "244/244 - 4s - loss: 0.4629 - accuracy: 0.9002\n",
      "Epoch 117/200\n",
      "244/244 - 4s - loss: 0.4517 - accuracy: 0.9020\n",
      "Epoch 118/200\n",
      "244/244 - 4s - loss: 0.4443 - accuracy: 0.9030\n",
      "Epoch 119/200\n",
      "244/244 - 4s - loss: 0.4368 - accuracy: 0.9031\n",
      "Epoch 120/200\n",
      "244/244 - 4s - loss: 0.4314 - accuracy: 0.9048\n",
      "Epoch 121/200\n",
      "244/244 - 4s - loss: 0.4233 - accuracy: 0.9070\n",
      "Epoch 122/200\n",
      "244/244 - 4s - loss: 0.4155 - accuracy: 0.9072\n",
      "Epoch 123/200\n",
      "244/244 - 4s - loss: 0.4081 - accuracy: 0.9089\n",
      "Epoch 124/200\n",
      "244/244 - 4s - loss: 0.4021 - accuracy: 0.9089\n",
      "Epoch 125/200\n",
      "244/244 - 4s - loss: 0.3962 - accuracy: 0.9093\n",
      "Epoch 126/200\n",
      "244/244 - 4s - loss: 0.3912 - accuracy: 0.9103\n",
      "Epoch 127/200\n",
      "244/244 - 4s - loss: 0.3842 - accuracy: 0.9099\n",
      "Epoch 128/200\n",
      "244/244 - 4s - loss: 0.3865 - accuracy: 0.9095\n",
      "Epoch 129/200\n",
      "244/244 - 4s - loss: 0.4083 - accuracy: 0.9058\n",
      "Epoch 130/200\n",
      "244/244 - 4s - loss: 0.4163 - accuracy: 0.9054\n",
      "Epoch 131/200\n",
      "244/244 - 4s - loss: 0.3764 - accuracy: 0.9114\n",
      "Epoch 132/200\n",
      "244/244 - 4s - loss: 0.3618 - accuracy: 0.9131\n",
      "Epoch 133/200\n",
      "244/244 - 4s - loss: 0.3559 - accuracy: 0.9131\n",
      "Epoch 134/200\n",
      "244/244 - 4s - loss: 0.3509 - accuracy: 0.9130\n",
      "Epoch 135/200\n",
      "244/244 - 4s - loss: 0.3465 - accuracy: 0.9146\n",
      "Epoch 136/200\n",
      "244/244 - 4s - loss: 0.3453 - accuracy: 0.9143\n",
      "Epoch 137/200\n"
     ]
    },
    {
     "name": "stdout",
     "output_type": "stream",
     "text": [
      "244/244 - 4s - loss: 0.3412 - accuracy: 0.9150\n",
      "Epoch 138/200\n",
      "244/244 - 4s - loss: 0.3440 - accuracy: 0.9127\n",
      "Epoch 139/200\n",
      "244/244 - 4s - loss: 0.3386 - accuracy: 0.9152\n",
      "Epoch 140/200\n",
      "244/244 - 4s - loss: 0.3324 - accuracy: 0.9154\n",
      "Epoch 141/200\n",
      "244/244 - 4s - loss: 0.3277 - accuracy: 0.9136\n",
      "Epoch 142/200\n",
      "244/244 - 4s - loss: 0.3248 - accuracy: 0.9161\n",
      "Epoch 143/200\n",
      "244/244 - 4s - loss: 0.3247 - accuracy: 0.9146\n",
      "Epoch 144/200\n",
      "244/244 - 4s - loss: 0.3203 - accuracy: 0.9155\n",
      "Epoch 145/200\n",
      "244/244 - 4s - loss: 0.3192 - accuracy: 0.9159\n",
      "Epoch 146/200\n",
      "244/244 - 4s - loss: 0.3161 - accuracy: 0.9155\n",
      "Epoch 147/200\n",
      "244/244 - 4s - loss: 0.3126 - accuracy: 0.9146\n",
      "Epoch 148/200\n",
      "244/244 - 4s - loss: 0.3101 - accuracy: 0.9145\n",
      "Epoch 149/200\n",
      "244/244 - 4s - loss: 0.3080 - accuracy: 0.9164\n",
      "Epoch 150/200\n",
      "244/244 - 4s - loss: 0.3059 - accuracy: 0.9157\n",
      "Epoch 151/200\n",
      "244/244 - 4s - loss: 0.3046 - accuracy: 0.9158\n",
      "Epoch 152/200\n",
      "244/244 - 4s - loss: 0.3113 - accuracy: 0.9153\n",
      "Epoch 153/200\n",
      "244/244 - 4s - loss: 0.3101 - accuracy: 0.9138\n",
      "Epoch 154/200\n",
      "244/244 - 4s - loss: 0.3102 - accuracy: 0.9134\n",
      "Epoch 155/200\n",
      "244/244 - 4s - loss: 0.3026 - accuracy: 0.9159\n",
      "Epoch 156/200\n",
      "244/244 - 4s - loss: 0.2959 - accuracy: 0.9154\n",
      "Epoch 157/200\n",
      "244/244 - 4s - loss: 0.2933 - accuracy: 0.9157\n",
      "Epoch 158/200\n",
      "244/244 - 4s - loss: 0.2911 - accuracy: 0.9167\n",
      "Epoch 159/200\n",
      "244/244 - 4s - loss: 0.2899 - accuracy: 0.9152\n",
      "Epoch 160/200\n",
      "244/244 - 4s - loss: 0.2898 - accuracy: 0.9163\n",
      "Epoch 161/200\n",
      "244/244 - 4s - loss: 0.2877 - accuracy: 0.9171\n",
      "Epoch 162/200\n",
      "244/244 - 4s - loss: 0.2860 - accuracy: 0.9162\n",
      "Epoch 163/200\n",
      "244/244 - 4s - loss: 0.2859 - accuracy: 0.9152\n",
      "Epoch 164/200\n",
      "244/244 - 4s - loss: 0.2865 - accuracy: 0.9153\n",
      "Epoch 165/200\n",
      "244/244 - 4s - loss: 0.2896 - accuracy: 0.9144\n",
      "Epoch 166/200\n",
      "244/244 - 4s - loss: 0.2990 - accuracy: 0.9148\n",
      "Epoch 167/200\n",
      "244/244 - 4s - loss: 0.2861 - accuracy: 0.9158\n",
      "Epoch 168/200\n",
      "244/244 - 4s - loss: 0.2809 - accuracy: 0.9161\n",
      "Epoch 169/200\n",
      "244/244 - 4s - loss: 0.2791 - accuracy: 0.9152\n",
      "Epoch 170/200\n",
      "244/244 - 4s - loss: 0.2783 - accuracy: 0.9168\n",
      "Epoch 171/200\n",
      "244/244 - 4s - loss: 0.2770 - accuracy: 0.9172\n",
      "Epoch 172/200\n",
      "244/244 - 4s - loss: 0.2758 - accuracy: 0.9162\n",
      "Epoch 173/200\n",
      "244/244 - 4s - loss: 0.2750 - accuracy: 0.9153\n",
      "Epoch 174/200\n",
      "244/244 - 4s - loss: 0.2749 - accuracy: 0.9171\n",
      "Epoch 175/200\n",
      "244/244 - 4s - loss: 0.2746 - accuracy: 0.9155\n",
      "Epoch 176/200\n",
      "244/244 - 4s - loss: 0.2730 - accuracy: 0.9161\n",
      "Epoch 177/200\n",
      "244/244 - 4s - loss: 0.2736 - accuracy: 0.9164\n",
      "Epoch 178/200\n",
      "244/244 - 4s - loss: 0.2739 - accuracy: 0.9171\n",
      "Epoch 179/200\n",
      "244/244 - 4s - loss: 0.2821 - accuracy: 0.9149\n",
      "Epoch 180/200\n",
      "244/244 - 4s - loss: 0.3092 - accuracy: 0.9079\n",
      "Epoch 181/200\n",
      "244/244 - 4s - loss: 0.2916 - accuracy: 0.9127\n",
      "Epoch 182/200\n",
      "244/244 - 4s - loss: 0.2773 - accuracy: 0.9167\n",
      "Epoch 183/200\n",
      "244/244 - 4s - loss: 0.2698 - accuracy: 0.9161\n",
      "Epoch 184/200\n",
      "244/244 - 4s - loss: 0.2687 - accuracy: 0.9175\n",
      "Epoch 185/200\n",
      "244/244 - 4s - loss: 0.2674 - accuracy: 0.9158\n",
      "Epoch 186/200\n",
      "244/244 - 4s - loss: 0.2672 - accuracy: 0.9153\n",
      "Epoch 187/200\n",
      "244/244 - 4s - loss: 0.2670 - accuracy: 0.9145\n",
      "Epoch 188/200\n",
      "244/244 - 4s - loss: 0.2666 - accuracy: 0.9164\n",
      "Epoch 189/200\n",
      "244/244 - 4s - loss: 0.2666 - accuracy: 0.9166\n",
      "Epoch 190/200\n",
      "244/244 - 5s - loss: 0.2684 - accuracy: 0.9146\n",
      "Epoch 191/200\n",
      "244/244 - 4s - loss: 0.2666 - accuracy: 0.9163\n",
      "Epoch 192/200\n",
      "244/244 - 4s - loss: 0.2669 - accuracy: 0.9170\n",
      "Epoch 193/200\n",
      "244/244 - 4s - loss: 0.2654 - accuracy: 0.9168\n",
      "Epoch 194/200\n",
      "244/244 - 4s - loss: 0.2651 - accuracy: 0.9162\n",
      "Epoch 195/200\n",
      "244/244 - 4s - loss: 0.2656 - accuracy: 0.9161\n",
      "Epoch 196/200\n",
      "244/244 - 4s - loss: 0.2638 - accuracy: 0.9159\n",
      "Epoch 197/200\n",
      "244/244 - 4s - loss: 0.2628 - accuracy: 0.9161\n",
      "Epoch 198/200\n",
      "244/244 - 5s - loss: 0.2639 - accuracy: 0.9154\n",
      "Epoch 199/200\n",
      "244/244 - 5s - loss: 0.2634 - accuracy: 0.9152\n",
      "Epoch 200/200\n",
      "244/244 - 5s - loss: 0.2634 - accuracy: 0.9175\n"
     ]
    },
    {
     "data": {
      "text/plain": [
       "<tensorflow.python.keras.callbacks.History at 0x29b9c1e2370>"
      ]
     },
     "execution_count": 42,
     "metadata": {},
     "output_type": "execute_result"
    }
   ],
   "source": [
    "# ------ 2. 모델 설계하기 ------\n",
    "from tensorflow.keras.models import Sequential\n",
    "from tensorflow.keras.layers import Embedding, Dense, LSTM\n",
    "\n",
    "model = Sequential()\n",
    "model.add(Embedding(vocab_size, 10, input_length=max_len-1))\n",
    "model.add(LSTM(128))\n",
    "model.add(Dense(vocab_size, activation='softmax'))\n",
    "model.compile(optimizer='adam', loss='categorical_crossentropy', metrics=['accuracy'])\n",
    "model.fit(X, y, epochs=200, verbose=2)"
   ]
  },
  {
   "cell_type": "code",
   "execution_count": 56,
   "metadata": {},
   "outputs": [],
   "source": [
    "def sentence_generation(model, t, current_word, n):\n",
    "    init_word = current_word\n",
    "    sentence = ''\n",
    "    for _ in range(n):\n",
    "        encoded = t.texts_to_sequences([current_word])[0]\n",
    "        encoded = pad_sequences([encoded], maxlen=max_len, padding='pre')\n",
    "        result = model.predict_classes(encoded, verbose=0)\n",
    "        for word, index in t.word_index.items():\n",
    "            if index == result:\n",
    "                current_word = current_word + ' ' + word\n",
    "                break\n",
    "        sentence = sentence + ' ' + word\n",
    "    sentence = init_word + sentence\n",
    "    return sentence"
   ]
  },
  {
   "cell_type": "code",
   "execution_count": 71,
   "metadata": {},
   "outputs": [
    {
     "data": {
      "text/plain": [
       "'trump returns to a hard line on immigrants as how a'"
      ]
     },
     "execution_count": 71,
     "metadata": {},
     "output_type": "execute_result"
    }
   ],
   "source": [
    "sentence_generation(model, t, 'trump', 10)"
   ]
  },
  {
   "cell_type": "code",
   "execution_count": null,
   "metadata": {},
   "outputs": [],
   "source": []
  }
 ],
 "metadata": {
  "kernelspec": {
   "display_name": "Python 3",
   "language": "python",
   "name": "python3"
  },
  "language_info": {
   "codemirror_mode": {
    "name": "ipython",
    "version": 3
   },
   "file_extension": ".py",
   "mimetype": "text/x-python",
   "name": "python",
   "nbconvert_exporter": "python",
   "pygments_lexer": "ipython3",
   "version": "3.8.3"
  }
 },
 "nbformat": 4,
 "nbformat_minor": 4
}
