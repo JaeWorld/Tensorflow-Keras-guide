{
 "cells": [
  {
   "cell_type": "code",
   "execution_count": 1,
   "metadata": {},
   "outputs": [],
   "source": [
    "from tensorflow.keras.datasets import reuters\n",
    "%matplotlib inline\n",
    "import matplotlib.pyplot as plt\n",
    "import numpy as np\n",
    "import seaborn as sns"
   ]
  },
  {
   "cell_type": "code",
   "execution_count": 11,
   "metadata": {},
   "outputs": [],
   "source": [
    "(X_train, y_train), (X_test, y_test) = reuters.load_data(num_words=None, test_split=0.2)"
   ]
  },
  {
   "cell_type": "code",
   "execution_count": 12,
   "metadata": {},
   "outputs": [
    {
     "name": "stdout",
     "output_type": "stream",
     "text": [
      "학습용 기사:  8982\n",
      "테스트용 기사:  2246\n",
      "카테고리:  46\n"
     ]
    }
   ],
   "source": [
    "print('학습용 기사: ', X_train.shape[0])\n",
    "print('테스트용 기사: ', X_test.shape[0])\n",
    "num_classes = max(y_train) + 1\n",
    "print('카테고리: ', num_classes)"
   ]
  },
  {
   "cell_type": "code",
   "execution_count": 13,
   "metadata": {},
   "outputs": [
    {
     "name": "stdout",
     "output_type": "stream",
     "text": [
      "[1, 27595, 28842, 8, 43, 10, 447, 5, 25, 207, 270, 5, 3095, 111, 16, 369, 186, 90, 67, 7, 89, 5, 19, 102, 6, 19, 124, 15, 90, 67, 84, 22, 482, 26, 7, 48, 4, 49, 8, 864, 39, 209, 154, 6, 151, 6, 83, 11, 15, 22, 155, 11, 15, 7, 48, 9, 4579, 1005, 504, 6, 258, 6, 272, 11, 15, 22, 134, 44, 11, 15, 16, 8, 197, 1245, 90, 67, 52, 29, 209, 30, 32, 132, 6, 109, 15, 17, 12]\n",
      "3\n"
     ]
    }
   ],
   "source": [
    "print(X_train[0])\n",
    "print(y_train[0])"
   ]
  },
  {
   "cell_type": "code",
   "execution_count": 17,
   "metadata": {},
   "outputs": [
    {
     "name": "stdout",
     "output_type": "stream",
     "text": [
      "뉴스 기사의 최대 길이:  2376\n",
      "뉴스 기사의 평균 길이:  145.5398574927633\n"
     ]
    },
    {
     "data": {
      "image/png": "[encoded data removed]",
      "text/plain": [
       "<Figure size 432x288 with 1 Axes>"
      ]
     },
     "metadata": {
      "needs_background": "light"
     },
     "output_type": "display_data"
    }
   ],
   "source": [
    "print('뉴스 기사의 최대 길이: ', max(len(l) for l in X_train))\n",
    "print('뉴스 기사의 평균 길이: ', sum(map(len, X_train))/len(X_train))\n",
    "\n",
    "plt.hist([len(s) for s in X_train], bins=50)\n",
    "plt.xlabel('length of samples')\n",
    "plt.ylabel('number of samples')\n",
    "plt.show()"
   ]
  },
  {
   "cell_type": "code",
   "execution_count": 18,
   "metadata": {},
   "outputs": [
    {
     "data": {
      "text/plain": [
       "<matplotlib.axes._subplots.AxesSubplot at 0x22c4511e220>"
      ]
     },
     "execution_count": 18,
     "metadata": {},
     "output_type": "execute_result"
    },
    {
     "data": {
      "image/png": "[encoded data removed]",
      "text/plain": [
       "<Figure size 864x360 with 1 Axes>"
      ]
     },
     "metadata": {
      "needs_background": "light"
     },
     "output_type": "display_data"
    }
   ],
   "source": [
    "fig, axe = plt.subplots(ncols=1)\n",
    "fig.set_size_inches(12, 5)\n",
    "sns.countplot(y_train)"
   ]
  },
  {
   "cell_type": "code",
   "execution_count": 19,
   "metadata": {},
   "outputs": [
    {
     "name": "stdout",
     "output_type": "stream",
     "text": [
      "각 레이블에 대한 빈도수:\n",
      "[[   0    1    2    3    4    5    6    7    8    9   10   11   12   13\n",
      "    14   15   16   17   18   19   20   21   22   23   24   25   26   27\n",
      "    28   29   30   31   32   33   34   35   36   37   38   39   40   41\n",
      "    42   43   44   45]\n",
      " [  55  432   74 3159 1949   17   48   16  139  101  124  390   49  172\n",
      "    26   20  444   39   66  549  269  100   15   41   62   92   24   15\n",
      "    48   19   45   39   32   11   50   10   49   19   19   24   36   30\n",
      "    13   21   12   18]]\n"
     ]
    }
   ],
   "source": [
    "unique_elements, counts_elements = np.unique(y_train, return_counts=True)\n",
    "print(\"각 레이블에 대한 빈도수:\")\n",
    "print(np.asarray((unique_elements, counts_elements)))"
   ]
  },
  {
   "cell_type": "code",
   "execution_count": 21,
   "metadata": {},
   "outputs": [],
   "source": [
    "word_to_index = reuters.get_word_index()\n",
    "#print(word_to_index)"
   ]
  },
  {
   "cell_type": "code",
   "execution_count": 22,
   "metadata": {},
   "outputs": [],
   "source": [
    "index_to_word = {}\n",
    "for key, value in word_to_index.items():\n",
    "    index_to_word[value] = key"
   ]
  },
  {
   "cell_type": "code",
   "execution_count": 23,
   "metadata": {},
   "outputs": [
    {
     "name": "stdout",
     "output_type": "stream",
     "text": [
      "february\n"
     ]
    }
   ],
   "source": [
    "print(index_to_word[101])"
   ]
  },
  {
   "cell_type": "code",
   "execution_count": 24,
   "metadata": {},
   "outputs": [
    {
     "name": "stdout",
     "output_type": "stream",
     "text": [
      "the\n"
     ]
    }
   ],
   "source": [
    "print(index_to_word[1])"
   ]
  },
  {
   "cell_type": "markdown",
   "metadata": {},
   "source": [
    "### 2. LSTM으로 로이터 뉴스 분류하기"
   ]
  },
  {
   "cell_type": "code",
   "execution_count": 26,
   "metadata": {},
   "outputs": [],
   "source": [
    "from tensorflow.keras.datasets import reuters\n",
    "from tensorflow.keras.models import Sequential\n",
    "from tensorflow.keras.layers import Dense, LSTM, Embedding\n",
    "from tensorflow.keras.preprocessing.sequence import pad_sequences\n",
    "from tensorflow.keras.utils import to_categorical\n",
    "from tensorflow.keras.callbacks import EarlyStopping, ModelCheckpoint\n",
    "from tensorflow.keras.models import load_model"
   ]
  },
  {
   "cell_type": "code",
   "execution_count": 27,
   "metadata": {},
   "outputs": [],
   "source": [
    "(X_train, y_train), (X_test, y_test) = reuters.load_data(num_words=1000, test_split=0.2)"
   ]
  },
  {
   "cell_type": "code",
   "execution_count": 28,
   "metadata": {},
   "outputs": [],
   "source": [
    "max_len = 100\n",
    "X_train = pad_sequences(X_train, maxlen=max_len)\n",
    "X_test = pad_sequences(X_test, maxlen=max_len)"
   ]
  },
  {
   "cell_type": "code",
   "execution_count": 32,
   "metadata": {},
   "outputs": [],
   "source": [
    "y_train = to_categorical(y_train)\n",
    "y_test = to_categorical(y_test)"
   ]
  },
  {
   "cell_type": "code",
   "execution_count": 34,
   "metadata": {},
   "outputs": [
    {
     "data": {
      "text/plain": [
       "array([[0., 0., 0., ..., 0., 0., 0.],\n",
       "       [0., 0., 0., ..., 0., 0., 0.],\n",
       "       [0., 1., 0., ..., 0., 0., 0.],\n",
       "       ...,\n",
       "       [0., 0., 0., ..., 0., 0., 0.],\n",
       "       [0., 0., 0., ..., 0., 0., 0.],\n",
       "       [0., 0., 0., ..., 0., 0., 0.]], dtype=float32)"
      ]
     },
     "execution_count": 34,
     "metadata": {},
     "output_type": "execute_result"
    }
   ],
   "source": [
    "y_test"
   ]
  },
  {
   "cell_type": "code",
   "execution_count": 35,
   "metadata": {},
   "outputs": [
    {
     "name": "stdout",
     "output_type": "stream",
     "text": [
      "Epoch 1/30\n",
      "70/71 [============================>.] - ETA: 0s - loss: 2.6273 - accuracy: 0.3456WARNING:tensorflow:Can save best model only with val_acc available, skipping.\n",
      "71/71 [==============================] - 11s 159ms/step - loss: 2.6269 - accuracy: 0.3457 - val_loss: 2.4045 - val_accuracy: 0.3620\n",
      "Epoch 2/30\n",
      "70/71 [============================>.] - ETA: 0s - loss: 2.1252 - accuracy: 0.4574WARNING:tensorflow:Can save best model only with val_acc available, skipping.\n",
      "71/71 [==============================] - 11s 148ms/step - loss: 2.1238 - accuracy: 0.4576 - val_loss: 1.9744 - val_accuracy: 0.5022\n",
      "Epoch 3/30\n",
      "70/71 [============================>.] - ETA: 0s - loss: 1.8493 - accuracy: 0.5302WARNING:tensorflow:Can save best model only with val_acc available, skipping.\n",
      "71/71 [==============================] - 11s 149ms/step - loss: 1.8488 - accuracy: 0.5304 - val_loss: 1.8115 - val_accuracy: 0.5378\n",
      "Epoch 4/30\n",
      "70/71 [============================>.] - ETA: 0s - loss: 1.8200 - accuracy: 0.5369WARNING:tensorflow:Can save best model only with val_acc available, skipping.\n",
      "71/71 [==============================] - 10s 147ms/step - loss: 1.8217 - accuracy: 0.5365 - val_loss: 1.9535 - val_accuracy: 0.5174\n",
      "Epoch 5/30\n",
      "70/71 [============================>.] - ETA: 0s - loss: 1.7876 - accuracy: 0.5430WARNING:tensorflow:Can save best model only with val_acc available, skipping.\n",
      "71/71 [==============================] - 10s 147ms/step - loss: 1.7875 - accuracy: 0.5430 - val_loss: 1.7309 - val_accuracy: 0.5570\n",
      "Epoch 6/30\n",
      "70/71 [============================>.] - ETA: 0s - loss: 1.6666 - accuracy: 0.5651WARNING:tensorflow:Can save best model only with val_acc available, skipping.\n",
      "71/71 [==============================] - 11s 159ms/step - loss: 1.6662 - accuracy: 0.5651 - val_loss: 1.6869 - val_accuracy: 0.5770\n",
      "Epoch 7/30\n",
      "70/71 [============================>.] - ETA: 0s - loss: 1.6067 - accuracy: 0.5824WARNING:tensorflow:Can save best model only with val_acc available, skipping.\n",
      "71/71 [==============================] - 11s 153ms/step - loss: 1.6067 - accuracy: 0.5825 - val_loss: 1.6321 - val_accuracy: 0.5837\n",
      "Epoch 8/30\n",
      "71/71 [==============================] - ETA: 0s - loss: 1.5297 - accuracy: 0.6057WARNING:tensorflow:Can save best model only with val_acc available, skipping.\n",
      "71/71 [==============================] - 13s 178ms/step - loss: 1.5297 - accuracy: 0.6057 - val_loss: 1.5608 - val_accuracy: 0.6055\n",
      "Epoch 9/30\n",
      "71/71 [==============================] - ETA: 0s - loss: 1.4572 - accuracy: 0.6290WARNING:tensorflow:Can save best model only with val_acc available, skipping.\n",
      "71/71 [==============================] - 11s 161ms/step - loss: 1.4572 - accuracy: 0.6290 - val_loss: 1.5248 - val_accuracy: 0.6193\n",
      "Epoch 10/30\n",
      "71/71 [==============================] - ETA: 0s - loss: 1.3677 - accuracy: 0.6538WARNING:tensorflow:Can save best model only with val_acc available, skipping.\n",
      "71/71 [==============================] - 12s 166ms/step - loss: 1.3677 - accuracy: 0.6538 - val_loss: 1.4570 - val_accuracy: 0.6278\n",
      "Epoch 11/30\n",
      "70/71 [============================>.] - ETA: 0s - loss: 1.2904 - accuracy: 0.6719WARNING:tensorflow:Can save best model only with val_acc available, skipping.\n",
      "71/71 [==============================] - 11s 150ms/step - loss: 1.2886 - accuracy: 0.6723 - val_loss: 1.4207 - val_accuracy: 0.6478\n",
      "Epoch 12/30\n",
      "70/71 [============================>.] - ETA: 0s - loss: 1.2109 - accuracy: 0.6902WARNING:tensorflow:Can save best model only with val_acc available, skipping.\n",
      "71/71 [==============================] - 10s 147ms/step - loss: 1.2101 - accuracy: 0.6904 - val_loss: 1.3475 - val_accuracy: 0.6554\n",
      "Epoch 13/30\n",
      "71/71 [==============================] - ETA: 0s - loss: 1.1542 - accuracy: 0.7020WARNING:tensorflow:Can save best model only with val_acc available, skipping.\n",
      "71/71 [==============================] - 11s 149ms/step - loss: 1.1542 - accuracy: 0.7020 - val_loss: 1.3382 - val_accuracy: 0.6554\n",
      "Epoch 14/30\n",
      "71/71 [==============================] - ETA: 0s - loss: 1.1110 - accuracy: 0.7122WARNING:tensorflow:Can save best model only with val_acc available, skipping.\n",
      "71/71 [==============================] - 11s 153ms/step - loss: 1.1110 - accuracy: 0.7122 - val_loss: 1.3314 - val_accuracy: 0.6554\n",
      "Epoch 15/30\n",
      "71/71 [==============================] - ETA: 0s - loss: 1.0716 - accuracy: 0.7243WARNING:tensorflow:Can save best model only with val_acc available, skipping.\n",
      "71/71 [==============================] - 10s 145ms/step - loss: 1.0716 - accuracy: 0.7243 - val_loss: 1.2630 - val_accuracy: 0.6754\n",
      "Epoch 16/30\n",
      "70/71 [============================>.] - ETA: 0s - loss: 1.0323 - accuracy: 0.7280WARNING:tensorflow:Can save best model only with val_acc available, skipping.\n",
      "71/71 [==============================] - 10s 146ms/step - loss: 1.0325 - accuracy: 0.7280 - val_loss: 1.3061 - val_accuracy: 0.6781\n",
      "Epoch 17/30\n",
      "71/71 [==============================] - ETA: 0s - loss: 1.0169 - accuracy: 0.7373WARNING:tensorflow:Can save best model only with val_acc available, skipping.\n",
      "71/71 [==============================] - 10s 146ms/step - loss: 1.0169 - accuracy: 0.7373 - val_loss: 1.2950 - val_accuracy: 0.6754\n",
      "Epoch 18/30\n",
      "70/71 [============================>.] - ETA: 0s - loss: 0.9759 - accuracy: 0.7462WARNING:tensorflow:Can save best model only with val_acc available, skipping.\n",
      "71/71 [==============================] - 10s 145ms/step - loss: 0.9755 - accuracy: 0.7464 - val_loss: 1.2671 - val_accuracy: 0.6803\n",
      "Epoch 19/30\n",
      "70/71 [============================>.] - ETA: 0s - loss: 0.9508 - accuracy: 0.7558WARNING:tensorflow:Can save best model only with val_acc available, skipping.\n",
      "71/71 [==============================] - 10s 146ms/step - loss: 0.9510 - accuracy: 0.7557 - val_loss: 1.2482 - val_accuracy: 0.6897\n",
      "Epoch 20/30\n",
      "70/71 [============================>.] - ETA: 0s - loss: 0.8906 - accuracy: 0.7720WARNING:tensorflow:Can save best model only with val_acc available, skipping.\n",
      "71/71 [==============================] - 11s 148ms/step - loss: 0.8904 - accuracy: 0.7719 - val_loss: 1.2689 - val_accuracy: 0.6848\n",
      "Epoch 21/30\n",
      "70/71 [============================>.] - ETA: 0s - loss: 0.8718 - accuracy: 0.7786WARNING:tensorflow:Can save best model only with val_acc available, skipping.\n",
      "71/71 [==============================] - 11s 150ms/step - loss: 0.8708 - accuracy: 0.7789 - val_loss: 1.2392 - val_accuracy: 0.7004\n",
      "Epoch 22/30\n",
      "71/71 [==============================] - ETA: 0s - loss: 0.8494 - accuracy: 0.7827WARNING:tensorflow:Can save best model only with val_acc available, skipping.\n",
      "71/71 [==============================] - 10s 145ms/step - loss: 0.8494 - accuracy: 0.7827 - val_loss: 1.2793 - val_accuracy: 0.6923\n",
      "Epoch 23/30\n",
      "71/71 [==============================] - ETA: 0s - loss: 0.8277 - accuracy: 0.7872WARNING:tensorflow:Can save best model only with val_acc available, skipping.\n",
      "71/71 [==============================] - 10s 145ms/step - loss: 0.8277 - accuracy: 0.7872 - val_loss: 1.2563 - val_accuracy: 0.6892\n",
      "Epoch 24/30\n",
      "70/71 [============================>.] - ETA: 0s - loss: 0.7869 - accuracy: 0.7974WARNING:tensorflow:Can save best model only with val_acc available, skipping.\n",
      "71/71 [==============================] - 10s 145ms/step - loss: 0.7863 - accuracy: 0.7975 - val_loss: 1.2357 - val_accuracy: 0.7039\n",
      "Epoch 25/30\n",
      "71/71 [==============================] - ETA: 0s - loss: 0.7442 - accuracy: 0.8093WARNING:tensorflow:Can save best model only with val_acc available, skipping.\n",
      "71/71 [==============================] - 10s 145ms/step - loss: 0.7442 - accuracy: 0.8093 - val_loss: 1.2462 - val_accuracy: 0.6986\n",
      "Epoch 26/30\n",
      "71/71 [==============================] - ETA: 0s - loss: 0.7049 - accuracy: 0.8226WARNING:tensorflow:Can save best model only with val_acc available, skipping.\n",
      "71/71 [==============================] - 10s 146ms/step - loss: 0.7049 - accuracy: 0.8226 - val_loss: 1.2645 - val_accuracy: 0.7017\n",
      "Epoch 27/30\n",
      "70/71 [============================>.] - ETA: 0s - loss: 0.6938 - accuracy: 0.8231WARNING:tensorflow:Can save best model only with val_acc available, skipping.\n",
      "71/71 [==============================] - 10s 145ms/step - loss: 0.6932 - accuracy: 0.8233 - val_loss: 1.2648 - val_accuracy: 0.7102\n"
     ]
    },
    {
     "name": "stdout",
     "output_type": "stream",
     "text": [
      "Epoch 28/30\n",
      "71/71 [==============================] - ETA: 0s - loss: 0.6660 - accuracy: 0.8301WARNING:tensorflow:Can save best model only with val_acc available, skipping.\n",
      "71/71 [==============================] - 10s 145ms/step - loss: 0.6660 - accuracy: 0.8301 - val_loss: 1.3025 - val_accuracy: 0.7048\n",
      "Epoch 00028: early stopping\n"
     ]
    }
   ],
   "source": [
    "model = Sequential()\n",
    "model.add(Embedding(1000, 120))\n",
    "model.add(LSTM(120))\n",
    "model.add(Dense(46, activation='softmax'))\n",
    "\n",
    "es = EarlyStopping(monitor='val_loss', mode='min', verbose=1, patience=4)\n",
    "mc = ModelCheckpoint('best_model.h5', monitor='val_acc', mode='max', verbose=1, save_best_only=True)\n",
    "\n",
    "model.compile(loss='categorical_crossentropy', optimizer='adam', metrics=['accuracy'])\n",
    "\n",
    "# validation_data로 X_test, y_test 사용. val_loss가 줄어들다가 증가하는 상황이 오면 과적합으로 판단\n",
    "history = model.fit(X_train, y_train, epochs=30, batch_size=128, callbacks=[es, mc], validation_data=(X_test, y_test))"
   ]
  },
  {
   "cell_type": "code",
   "execution_count": 42,
   "metadata": {},
   "outputs": [
    {
     "name": "stdout",
     "output_type": "stream",
     "text": [
      "71/71 [==============================] - 1s 16ms/step - loss: 1.3025 - accuracy: 0.7048\n",
      "테스트 정확도:  0.7048085331916809\n"
     ]
    }
   ],
   "source": [
    "print('테스트 정확도: ', (model.evaluate(X_test, y_test)[1]))"
   ]
  },
  {
   "cell_type": "code",
   "execution_count": 44,
   "metadata": {},
   "outputs": [
    {
     "data": {
      "image/png": "[encoded data removed]",
      "text/plain": [
       "<Figure size 432x288 with 1 Axes>"
      ]
     },
     "metadata": {
      "needs_background": "light"
     },
     "output_type": "display_data"
    }
   ],
   "source": [
    "epochs = range(1, len(history.history['accuracy']) + 1)\n",
    "plt.plot(epochs, history.history['loss'])\n",
    "plt.plot(epochs, history.history['val_loss'])\n",
    "plt.title('model loss')\n",
    "plt.ylabel('loss')\n",
    "plt.xlabel('epoch')\n",
    "plt.legend(['train', 'test'], loc='upper left')\n",
    "plt.show()"
   ]
  },
  {
   "cell_type": "code",
   "execution_count": null,
   "metadata": {},
   "outputs": [],
   "source": []
  }
 ],
 "metadata": {
  "kernelspec": {
   "display_name": "Python 3",
   "language": "python",
   "name": "python3"
  },
  "language_info": {
   "codemirror_mode": {
    "name": "ipython",
    "version": 3
   },
   "file_extension": ".py",
   "mimetype": "text/x-python",
   "name": "python",
   "nbconvert_exporter": "python",
   "pygments_lexer": "ipython3",
   "version": "3.8.3"
  }
 },
 "nbformat": 4,
 "nbformat_minor": 4
}
