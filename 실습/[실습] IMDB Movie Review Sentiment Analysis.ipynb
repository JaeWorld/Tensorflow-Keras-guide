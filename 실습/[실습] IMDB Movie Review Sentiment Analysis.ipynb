{
 "cells": [
  {
   "cell_type": "code",
   "execution_count": 3,
   "metadata": {},
   "outputs": [
    {
     "name": "stdout",
     "output_type": "stream",
     "text": [
      "Train reviews:  25000\n",
      "Test reviews:  25000\n",
      "Categories:  2\n"
     ]
    }
   ],
   "source": [
    "%matplotlib inline\n",
    "import matplotlib.pyplot as plt\n",
    "import numpy as np\n",
    "from tensorflow.keras.datasets import imdb\n",
    "\n",
    "(X_train, y_train), (X_test, y_test) = imdb.load_data()\n",
    "\n",
    "print('Train reviews: ', len(X_train))\n",
    "print('Test reviews: ', len(X_test))\n",
    "num_classes = max(y_train) + 1\n",
    "print('Categories: ', num_classes)"
   ]
  },
  {
   "cell_type": "markdown",
   "metadata": {},
   "source": [
    "### 1. 데이터 전처리"
   ]
  },
  {
   "cell_type": "code",
   "execution_count": 5,
   "metadata": {},
   "outputs": [
    {
     "name": "stdout",
     "output_type": "stream",
     "text": [
      "[1, 14, 22, 16, 43, 530, 973, 1622, 1385, 65, 458, 4468, 66, 3941, 4, 173, 36, 256, 5, 25, 100, 43, 838, 112, 50, 670, 22665, 9, 35, 480, 284, 5, 150, 4, 172, 112, 167, 21631, 336, 385, 39, 4, 172, 4536, 1111, 17, 546, 38, 13, 447, 4, 192, 50, 16, 6, 147, 2025, 19, 14, 22, 4, 1920, 4613, 469, 4, 22, 71, 87, 12, 16, 43, 530, 38, 76, 15, 13, 1247, 4, 22, 17, 515, 17, 12, 16, 626, 18, 19193, 5, 62, 386, 12, 8, 316, 8, 106, 5, 4, 2223, 5244, 16, 480, 66, 3785, 33, 4, 130, 12, 16, 38, 619, 5, 25, 124, 51, 36, 135, 48, 25, 1415, 33, 6, 22, 12, 215, 28, 77, 52, 5, 14, 407, 16, 82, 10311, 8, 4, 107, 117, 5952, 15, 256, 4, 31050, 7, 3766, 5, 723, 36, 71, 43, 530, 476, 26, 400, 317, 46, 7, 4, 12118, 1029, 13, 104, 88, 4, 381, 15, 297, 98, 32, 2071, 56, 26, 141, 6, 194, 7486, 18, 4, 226, 22, 21, 134, 476, 26, 480, 5, 144, 30, 5535, 18, 51, 36, 28, 224, 92, 25, 104, 4, 226, 65, 16, 38, 1334, 88, 12, 16, 283, 5, 16, 4472, 113, 103, 32, 15, 16, 5345, 19, 178, 32]\n",
      "1\n"
     ]
    }
   ],
   "source": [
    "# X_train은 이미 인코딩 되어 숫자들로 구성\n",
    "# y_train은 1/0.  1이면 긍정 리뷰, 0이면 부정 리뷰\n",
    "print(X_train[0])\n",
    "print(y_train[0])"
   ]
  },
  {
   "cell_type": "code",
   "execution_count": 10,
   "metadata": {},
   "outputs": [
    {
     "name": "stdout",
     "output_type": "stream",
     "text": [
      "Reviews max length:  2494\n",
      "Reviews avg length:  238.71364\n"
     ]
    },
    {
     "data": {
      "image/png": "[encoded data removed]",
      "text/plain": [
       "<Figure size 432x288 with 2 Axes>"
      ]
     },
     "metadata": {
      "needs_background": "light"
     },
     "output_type": "display_data"
    }
   ],
   "source": [
    "len_result = [len(s) for s in X_train]\n",
    "\n",
    "print('Reviews max length: ', max(len_result))\n",
    "print('Reviews avg length: ', np.mean(len_result))\n",
    "\n",
    "plt.subplot(1, 2, 1)\n",
    "plt.boxplot(len_result)\n",
    "plt.subplot(1, 2, 2)\n",
    "plt.hist(len_result, bins=50)\n",
    "plt.show()"
   ]
  },
  {
   "cell_type": "code",
   "execution_count": 14,
   "metadata": {},
   "outputs": [
    {
     "name": "stdout",
     "output_type": "stream",
     "text": [
      "[[    0     1]\n",
      " [12500 12500]]\n"
     ]
    }
   ],
   "source": [
    "unique_elements, counts_elements = np.unique(y_train, return_counts=True)\n",
    "print(np.asarray((unique_elements, counts_elements)))"
   ]
  },
  {
   "cell_type": "code",
   "execution_count": 15,
   "metadata": {},
   "outputs": [
    {
     "name": "stdout",
     "output_type": "stream",
     "text": [
      "Downloading data from https://storage.googleapis.com/tensorflow/tf-keras-datasets/imdb_word_index.json\n",
      "1646592/1641221 [==============================] - 0s 0us/step\n"
     ]
    }
   ],
   "source": [
    "# imdb 데이터셋에서는 0, 1, 2, 3은 특별 토큰으로 취급하므로 value에 +3 하여 저장해야함\n",
    "word_to_index = imdb.get_word_index()\n",
    "index_to_word = {}\n",
    "\n",
    "for key, value in word_to_index.items():\n",
    "    index_to_word[value+3] = key"
   ]
  },
  {
   "cell_type": "code",
   "execution_count": 16,
   "metadata": {},
   "outputs": [
    {
     "name": "stdout",
     "output_type": "stream",
     "text": [
      "the\n",
      "suited\n"
     ]
    }
   ],
   "source": [
    "print(index_to_word[4])\n",
    "print(index_to_word[3941])"
   ]
  },
  {
   "cell_type": "code",
   "execution_count": 18,
   "metadata": {},
   "outputs": [
    {
     "name": "stdout",
     "output_type": "stream",
     "text": [
      "<sos> this film was just brilliant casting location scenery story direction everyone's really suited the part they played and you could just imagine being there robert redford's is an amazing actor and now the same being director norman's father came from the same scottish island as myself so i loved the fact there was a real connection with this film the witty remarks throughout the film were great it was just brilliant so much that i bought the film as soon as it was released for retail and would recommend it to everyone to watch and the fly fishing was amazing really cried at the end it was so sad and you know what they say if you cry at a film it must have been good and this definitely was also congratulations to the two little boy's that played the part's of norman and paul they were just brilliant children are often left out of the praising list i think because the stars that play them all grown up are such a big profile for the whole film but these children are amazing and should be praised for what they have done don't you think the whole story was so lovely because it was true and was someone's life after all that was shared with us all\n"
     ]
    }
   ],
   "source": [
    "for index, token in enumerate((\"<pad>\", \"<sos>\", \"<unk>\")):\n",
    "    index_to_word[index]=token\n",
    "\n",
    "print(' '.join([index_to_word[index] for index in X_train[0]]))"
   ]
  },
  {
   "cell_type": "markdown",
   "metadata": {},
   "source": [
    "### 2. GRU로 IMDB 리뷰 감성 분석"
   ]
  },
  {
   "cell_type": "code",
   "execution_count": 59,
   "metadata": {},
   "outputs": [],
   "source": [
    "import re\n",
    "from tensorflow.keras.datasets import imdb\n",
    "from tensorflow.keras.preprocessing.sequence import pad_sequences\n",
    "from tensorflow.keras.models import Sequential\n",
    "from tensorflow.keras.layers import Dense, Embedding, GRU\n",
    "from tensorflow.keras.callbacks import EarlyStopping, ModelCheckpoint\n",
    "from tensorflow.keras.models import load_model"
   ]
  },
  {
   "cell_type": "code",
   "execution_count": 60,
   "metadata": {},
   "outputs": [],
   "source": [
    "vocab_size = 10000\n",
    "(X_train, y_train), (X_test, y_test) = imdb.load_data(num_words=vocab_size)"
   ]
  },
  {
   "cell_type": "code",
   "execution_count": 61,
   "metadata": {},
   "outputs": [],
   "source": [
    "max_len = 500\n",
    "X_train = pad_sequences(X_train, maxlen=max_len)\n",
    "X_test = pad_sequences(X_test, maxlen=max_len)"
   ]
  },
  {
   "cell_type": "code",
   "execution_count": 62,
   "metadata": {},
   "outputs": [
    {
     "name": "stdout",
     "output_type": "stream",
     "text": [
      "Epoch 1/15\n",
      "334/334 [==============================] - ETA: 0s - loss: 0.4994 - acc: 0.7620\n",
      "Epoch 00001: val_acc improved from -inf to 0.83540, saving model to GRU_model.h5\n",
      "334/334 [==============================] - 172s 514ms/step - loss: 0.4994 - acc: 0.7620 - val_loss: 0.4276 - val_acc: 0.8354\n",
      "Epoch 2/15\n",
      "334/334 [==============================] - ETA: 0s - loss: 0.3137 - acc: 0.8762\n",
      "Epoch 00002: val_acc improved from 0.83540 to 0.86840, saving model to GRU_model.h5\n",
      "334/334 [==============================] - 180s 539ms/step - loss: 0.3137 - acc: 0.8762 - val_loss: 0.3198 - val_acc: 0.8684\n",
      "Epoch 3/15\n",
      "334/334 [==============================] - ETA: 0s - loss: 0.2418 - acc: 0.9093\n",
      "Epoch 00003: val_acc did not improve from 0.86840\n",
      "334/334 [==============================] - 217s 650ms/step - loss: 0.2418 - acc: 0.9093 - val_loss: 0.7512 - val_acc: 0.7664\n",
      "Epoch 4/15\n",
      "334/334 [==============================] - ETA: 0s - loss: 0.1942 - acc: 0.9268\n",
      "Epoch 00004: val_acc improved from 0.86840 to 0.89340, saving model to GRU_model.h5\n",
      "334/334 [==============================] - 304s 910ms/step - loss: 0.1942 - acc: 0.9268 - val_loss: 0.2828 - val_acc: 0.8934\n",
      "Epoch 5/15\n",
      "334/334 [==============================] - ETA: 0s - loss: 0.1515 - acc: 0.9442\n",
      "Epoch 00005: val_acc did not improve from 0.89340\n",
      "334/334 [==============================] - 246s 737ms/step - loss: 0.1515 - acc: 0.9442 - val_loss: 0.3781 - val_acc: 0.8668\n",
      "Epoch 6/15\n",
      "334/334 [==============================] - ETA: 0s - loss: 0.1174 - acc: 0.9586\n",
      "Epoch 00006: val_acc improved from 0.89340 to 0.89680, saving model to GRU_model.h5\n",
      "334/334 [==============================] - 438s 1s/step - loss: 0.1174 - acc: 0.9586 - val_loss: 0.2888 - val_acc: 0.8968\n",
      "Epoch 7/15\n",
      "334/334 [==============================] - ETA: 0s - loss: 0.0942 - acc: 0.9685\n",
      "Epoch 00007: val_acc improved from 0.89680 to 0.89840, saving model to GRU_model.h5\n",
      "334/334 [==============================] - 367s 1s/step - loss: 0.0942 - acc: 0.9685 - val_loss: 0.3183 - val_acc: 0.8984\n",
      "Epoch 8/15\n",
      "334/334 [==============================] - ETA: 0s - loss: 0.0723 - acc: 0.9762\n",
      "Epoch 00008: val_acc did not improve from 0.89840\n",
      "334/334 [==============================] - 375s 1s/step - loss: 0.0723 - acc: 0.9762 - val_loss: 0.3351 - val_acc: 0.8820\n",
      "Epoch 00008: early stopping\n"
     ]
    }
   ],
   "source": [
    "model = Sequential()\n",
    "model.add(Embedding(vocab_size, 100))\n",
    "model.add(GRU(128))\n",
    "model.add(Dense(1, activation='sigmoid'))\n",
    "\n",
    "# 검증 데이터 손실이 4회 증가하면 학습 중단 (조기 종료)\n",
    "es = EarlyStopping(monitor='val_loss', mode='min', verbose=1, patience=4)\n",
    "# 검증 데이터의 정확도가 이전보다 상승할 경우만 모델 저장\n",
    "mc = ModelCheckpoint('GRU_model.h5', monitor='val_acc', mode='max', verbose=1, save_best_only=True)\n",
    "\n",
    "model.compile(optimizer='rmsprop', loss='binary_crossentropy', metrics=['acc'])\n",
    "history = model.fit(X_train, y_train, epochs=15, callbacks=[es, mc], batch_size=60, validation_split=0.2)"
   ]
  },
  {
   "cell_type": "code",
   "execution_count": 63,
   "metadata": {},
   "outputs": [
    {
     "name": "stdout",
     "output_type": "stream",
     "text": [
      "782/782 [==============================] - 88s 112ms/step - loss: 0.3456 - acc: 0.8864\n",
      "0.8863999843597412\n"
     ]
    }
   ],
   "source": [
    "loaded_model = load_model('GRU_model.h5')\n",
    "print(loaded_model.evaluate(X_test, y_test)[1])"
   ]
  },
  {
   "cell_type": "code",
   "execution_count": 84,
   "metadata": {},
   "outputs": [],
   "source": [
    "def sentiment_predict(new_sentence):\n",
    "    new_sentence = re.sub('[^0-9A-Za-z ]', '', new_sentence).lower()\n",
    "    encoded = []\n",
    "    \n",
    "    for word in new_sentence.split():\n",
    "        try:\n",
    "            if word_to_index[word] <= 10000:\n",
    "                encoded.append(word_to_index[word]+3)\n",
    "            else:\n",
    "                # 순위 10000 이상 단어 <unk> 토큰으로 취급\n",
    "                encoded.append(2)\n",
    "        # 단어 집합에 없는 단어 <unk> 토큰으로 취급\n",
    "        except KeyError:\n",
    "            encoded.append(2)\n",
    "            \n",
    "    pad_new = pad_sequences([encoded], maxlen=max_len)\n",
    "    score = float(loaded_model.predict(pad_new))\n",
    "    \n",
    "    if score >= 0.5:\n",
    "        print(round(score*100, 2), '% 확률로 긍정 리뷰')\n",
    "    else:\n",
    "        print(round((1-score)*100, 2), '% 확률로 부정 리뷰')"
   ]
  },
  {
   "cell_type": "code",
   "execution_count": 87,
   "metadata": {},
   "outputs": [
    {
     "name": "stdout",
     "output_type": "stream",
     "text": [
      "91.37 % 확률로 긍정 리뷰\n"
     ]
    }
   ],
   "source": [
    "# 긍정적인 리뷰로 테스트 (10/10)\n",
    "pos_review = '''\n",
    "The Suicide Squad is an upgrade in every conceivable way when compared to the 2016 movie. Its also a really fun, gory, colorful and fresh take on the DC universe when compared to the dull, dark and overly edgy garbage of Movies like Batman vs Superman. As well as that, its nice to see a cast of characters that would likely never see the light of day in any other DC movie, Polka Dot man being a prime example. The casting itself was also really well done with Daniela Melchior being the standout to me.\n",
    "'''\n",
    "\n",
    "sentiment_predict(pos_review)"
   ]
  },
  {
   "cell_type": "code",
   "execution_count": 86,
   "metadata": {},
   "outputs": [
    {
     "name": "stdout",
     "output_type": "stream",
     "text": [
      "95.99 % 확률로 부정 리뷰\n"
     ]
    }
   ],
   "source": [
    "# 부정적인 리뷰로 테스트 (1/10)\n",
    "neg_review = '''\n",
    "I have enjoyed most DC movies, but this is definitely something else. I just don't understand how some of these amazing actors agreed to something so bad. There were a couple of funny moments, but for the most part it was one of the worst movies I've watched.\n",
    "'''\n",
    "\n",
    "sentiment_predict(neg_review)"
   ]
  },
  {
   "cell_type": "code",
   "execution_count": null,
   "metadata": {},
   "outputs": [],
   "source": []
  }
 ],
 "metadata": {
  "kernelspec": {
   "display_name": "Python 3",
   "language": "python",
   "name": "python3"
  },
  "language_info": {
   "codemirror_mode": {
    "name": "ipython",
    "version": 3
   },
   "file_extension": ".py",
   "mimetype": "text/x-python",
   "name": "python",
   "nbconvert_exporter": "python",
   "pygments_lexer": "ipython3",
   "version": "3.8.3"
  }
 },
 "nbformat": 4,
 "nbformat_minor": 4
}
