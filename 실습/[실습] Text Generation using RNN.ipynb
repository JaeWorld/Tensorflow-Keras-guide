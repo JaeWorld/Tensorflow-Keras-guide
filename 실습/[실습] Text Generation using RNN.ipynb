{
 "cells": [
  {
   "cell_type": "code",
   "execution_count": 11,
   "metadata": {},
   "outputs": [
    {
     "name": "stdout",
     "output_type": "stream",
     "text": [
      "단어 집합의 크기: 12\n"
     ]
    }
   ],
   "source": [
    "# ------ 1. 데이터 전처리 ------\n",
    "\n",
    "from tensorflow.keras.preprocessing.text import Tokenizer\n",
    "from tensorflow.keras.preprocessing.sequence import pad_sequences\n",
    "import numpy as np\n",
    "from tensorflow.keras.utils import to_categorical\n",
    "\n",
    "text = \"\"\"경마장에 있는 말이 뛰고 있다\\n\n",
    "그의 말이 법이다\\n\n",
    "가는 말이 고와야 오는 말이 곱다\\n\"\"\"\n",
    "\n",
    "t = Tokenizer()\n",
    "t.fit_on_texts([text])\n",
    "vocab_size = len(t.word_index) + 1\n",
    "\n",
    "print('단어 집합의 크기: %d' % vocab_size)"
   ]
  },
  {
   "cell_type": "code",
   "execution_count": 12,
   "metadata": {},
   "outputs": [
    {
     "name": "stdout",
     "output_type": "stream",
     "text": [
      "{'말이': 1, '경마장에': 2, '있는': 3, '뛰고': 4, '있다': 5, '그의': 6, '법이다': 7, '가는': 8, '고와야': 9, '오는': 10, '곱다': 11}\n"
     ]
    }
   ],
   "source": [
    "print(t.word_index)"
   ]
  },
  {
   "cell_type": "code",
   "execution_count": 17,
   "metadata": {},
   "outputs": [
    {
     "name": "stdout",
     "output_type": "stream",
     "text": [
      "학습에 사용할 샘플의 개수: 11\n"
     ]
    }
   ],
   "source": [
    "sequences = []\n",
    "for line in text.split('\\n'):\n",
    "    encoded = t.texts_to_sequences([line])[0]\n",
    "    for i in range(1, len(encoded)):\n",
    "        sequence = encoded[:i+1]\n",
    "        sequences.append(sequence)\n",
    "        \n",
    "print('학습에 사용할 샘플의 개수: %d' % len(sequences))"
   ]
  },
  {
   "cell_type": "code",
   "execution_count": 18,
   "metadata": {},
   "outputs": [
    {
     "name": "stdout",
     "output_type": "stream",
     "text": [
      "[[2, 3], [2, 3, 1], [2, 3, 1, 4], [2, 3, 1, 4, 5], [6, 1], [6, 1, 7], [8, 1], [8, 1, 9], [8, 1, 9, 10], [8, 1, 9, 10, 1], [8, 1, 9, 10, 1, 11]]\n"
     ]
    }
   ],
   "source": [
    "# 아직 레이블로 사용될 단어를 분리하지 않은 훈련 데이터\n",
    "# 맨 우측에 있는 단어만 레이블로 분리\n",
    "print(sequences)\n"
   ]
  },
  {
   "cell_type": "code",
   "execution_count": 19,
   "metadata": {},
   "outputs": [
    {
     "name": "stdout",
     "output_type": "stream",
     "text": [
      "샘플의 최대 길이:  6\n"
     ]
    }
   ],
   "source": [
    "# 전체 샘플에 대해 길이를 맞춰준다. 가장 긴 샘플의 길이를 기준으로.\n",
    "max_len = max(len(l) for l in sequences)\n",
    "print('샘플의 최대 길이: ', max_len)"
   ]
  },
  {
   "cell_type": "code",
   "execution_count": 21,
   "metadata": {},
   "outputs": [
    {
     "name": "stdout",
     "output_type": "stream",
     "text": [
      "[[ 0  0  0  0  2  3]\n",
      " [ 0  0  0  2  3  1]\n",
      " [ 0  0  2  3  1  4]\n",
      " [ 0  2  3  1  4  5]\n",
      " [ 0  0  0  0  6  1]\n",
      " [ 0  0  0  6  1  7]\n",
      " [ 0  0  0  0  8  1]\n",
      " [ 0  0  0  8  1  9]\n",
      " [ 0  0  8  1  9 10]\n",
      " [ 0  8  1  9 10  1]\n",
      " [ 8  1  9 10  1 11]]\n"
     ]
    }
   ],
   "source": [
    "# 패딩 진행\n",
    "sequences = pad_sequences(sequences, maxlen=max_len, padding='pre')\n",
    "print(sequences)\n"
   ]
  },
  {
   "cell_type": "code",
   "execution_count": 23,
   "metadata": {},
   "outputs": [
    {
     "name": "stdout",
     "output_type": "stream",
     "text": [
      "[[ 0  0  0  0  2]\n",
      " [ 0  0  0  2  3]\n",
      " [ 0  0  2  3  1]\n",
      " [ 0  2  3  1  4]\n",
      " [ 0  0  0  0  6]\n",
      " [ 0  0  0  6  1]\n",
      " [ 0  0  0  0  8]\n",
      " [ 0  0  0  8  1]\n",
      " [ 0  0  8  1  9]\n",
      " [ 0  8  1  9 10]\n",
      " [ 8  1  9 10  1]]\n",
      "[ 3  1  4  5  1  7  1  9 10  1 11]\n"
     ]
    }
   ],
   "source": [
    "# 마지막 단어만 레이블로 분리.\n",
    "# numpy 사용\n",
    "sequences = np.array(sequences)\n",
    "X = sequences[:, :-1]\n",
    "y = sequences[:, -1]\n",
    "\n",
    "print(X)\n",
    "print(y)\n"
   ]
  },
  {
   "cell_type": "code",
   "execution_count": 24,
   "metadata": {},
   "outputs": [
    {
     "name": "stdout",
     "output_type": "stream",
     "text": [
      "[[0. 0. 0. 1. 0. 0. 0. 0. 0. 0. 0. 0.]\n",
      " [0. 1. 0. 0. 0. 0. 0. 0. 0. 0. 0. 0.]\n",
      " [0. 0. 0. 0. 1. 0. 0. 0. 0. 0. 0. 0.]\n",
      " [0. 0. 0. 0. 0. 1. 0. 0. 0. 0. 0. 0.]\n",
      " [0. 1. 0. 0. 0. 0. 0. 0. 0. 0. 0. 0.]\n",
      " [0. 0. 0. 0. 0. 0. 0. 1. 0. 0. 0. 0.]\n",
      " [0. 1. 0. 0. 0. 0. 0. 0. 0. 0. 0. 0.]\n",
      " [0. 0. 0. 0. 0. 0. 0. 0. 0. 1. 0. 0.]\n",
      " [0. 0. 0. 0. 0. 0. 0. 0. 0. 0. 1. 0.]\n",
      " [0. 1. 0. 0. 0. 0. 0. 0. 0. 0. 0. 0.]\n",
      " [0. 0. 0. 0. 0. 0. 0. 0. 0. 0. 0. 1.]]\n"
     ]
    }
   ],
   "source": [
    "# RNN 모델에 훈련시키기 위해 레이블을 원-핫 인코딩 수행\n",
    "y = to_categorical(y)\n",
    "print(y)\n"
   ]
  },
  {
   "cell_type": "code",
   "execution_count": 25,
   "metadata": {},
   "outputs": [
    {
     "name": "stdout",
     "output_type": "stream",
     "text": [
      "Epoch 1/200\n",
      "1/1 - 0s - loss: 2.4923 - accuracy: 0.0909\n",
      "Epoch 2/200\n",
      "1/1 - 0s - loss: 2.4803 - accuracy: 0.0909\n",
      "Epoch 3/200\n",
      "1/1 - 0s - loss: 2.4688 - accuracy: 0.0909\n",
      "Epoch 4/200\n",
      "1/1 - 0s - loss: 2.4574 - accuracy: 0.0909\n",
      "Epoch 5/200\n",
      "1/1 - 0s - loss: 2.4461 - accuracy: 0.1818\n",
      "Epoch 6/200\n",
      "1/1 - 0s - loss: 2.4347 - accuracy: 0.2727\n",
      "Epoch 7/200\n",
      "1/1 - 0s - loss: 2.4231 - accuracy: 0.3636\n",
      "Epoch 8/200\n",
      "1/1 - 0s - loss: 2.4112 - accuracy: 0.3636\n",
      "Epoch 9/200\n",
      "1/1 - 0s - loss: 2.3988 - accuracy: 0.3636\n",
      "Epoch 10/200\n",
      "1/1 - 0s - loss: 2.3859 - accuracy: 0.3636\n",
      "Epoch 11/200\n",
      "1/1 - 0s - loss: 2.3725 - accuracy: 0.3636\n",
      "Epoch 12/200\n",
      "1/1 - 0s - loss: 2.3584 - accuracy: 0.3636\n",
      "Epoch 13/200\n",
      "1/1 - 0s - loss: 2.3436 - accuracy: 0.3636\n",
      "Epoch 14/200\n",
      "1/1 - 0s - loss: 2.3281 - accuracy: 0.3636\n",
      "Epoch 15/200\n",
      "1/1 - 0s - loss: 2.3118 - accuracy: 0.3636\n",
      "Epoch 16/200\n",
      "1/1 - 0s - loss: 2.2946 - accuracy: 0.3636\n",
      "Epoch 17/200\n",
      "1/1 - 0s - loss: 2.2765 - accuracy: 0.3636\n",
      "Epoch 18/200\n",
      "1/1 - 0s - loss: 2.2575 - accuracy: 0.3636\n",
      "Epoch 19/200\n",
      "1/1 - 0s - loss: 2.2375 - accuracy: 0.3636\n",
      "Epoch 20/200\n",
      "1/1 - 0s - loss: 2.2166 - accuracy: 0.3636\n",
      "Epoch 21/200\n",
      "1/1 - 0s - loss: 2.1948 - accuracy: 0.3636\n",
      "Epoch 22/200\n",
      "1/1 - 0s - loss: 2.1722 - accuracy: 0.3636\n",
      "Epoch 23/200\n",
      "1/1 - 0s - loss: 2.1489 - accuracy: 0.3636\n",
      "Epoch 24/200\n",
      "1/1 - 0s - loss: 2.1250 - accuracy: 0.3636\n",
      "Epoch 25/200\n",
      "1/1 - 0s - loss: 2.1007 - accuracy: 0.3636\n",
      "Epoch 26/200\n",
      "1/1 - 0s - loss: 2.0763 - accuracy: 0.3636\n",
      "Epoch 27/200\n",
      "1/1 - 0s - loss: 2.0521 - accuracy: 0.3636\n",
      "Epoch 28/200\n",
      "1/1 - 0s - loss: 2.0283 - accuracy: 0.3636\n",
      "Epoch 29/200\n",
      "1/1 - 0s - loss: 2.0054 - accuracy: 0.3636\n",
      "Epoch 30/200\n",
      "1/1 - 0s - loss: 1.9837 - accuracy: 0.3636\n",
      "Epoch 31/200\n",
      "1/1 - 0s - loss: 1.9634 - accuracy: 0.3636\n",
      "Epoch 32/200\n",
      "1/1 - 0s - loss: 1.9447 - accuracy: 0.3636\n",
      "Epoch 33/200\n",
      "1/1 - 0s - loss: 1.9275 - accuracy: 0.3636\n",
      "Epoch 34/200\n",
      "1/1 - 0s - loss: 1.9117 - accuracy: 0.3636\n",
      "Epoch 35/200\n",
      "1/1 - 0s - loss: 1.8969 - accuracy: 0.3636\n",
      "Epoch 36/200\n",
      "1/1 - 0s - loss: 1.8826 - accuracy: 0.3636\n",
      "Epoch 37/200\n",
      "1/1 - 0s - loss: 1.8684 - accuracy: 0.3636\n",
      "Epoch 38/200\n",
      "1/1 - 0s - loss: 1.8538 - accuracy: 0.3636\n",
      "Epoch 39/200\n",
      "1/1 - 0s - loss: 1.8387 - accuracy: 0.3636\n",
      "Epoch 40/200\n",
      "1/1 - 0s - loss: 1.8227 - accuracy: 0.3636\n",
      "Epoch 41/200\n",
      "1/1 - 0s - loss: 1.8058 - accuracy: 0.3636\n",
      "Epoch 42/200\n",
      "1/1 - 0s - loss: 1.7882 - accuracy: 0.3636\n",
      "Epoch 43/200\n",
      "1/1 - 0s - loss: 1.7700 - accuracy: 0.3636\n",
      "Epoch 44/200\n",
      "1/1 - 0s - loss: 1.7514 - accuracy: 0.3636\n",
      "Epoch 45/200\n",
      "1/1 - 0s - loss: 1.7326 - accuracy: 0.4545\n",
      "Epoch 46/200\n",
      "1/1 - 0s - loss: 1.7136 - accuracy: 0.4545\n",
      "Epoch 47/200\n",
      "1/1 - 0s - loss: 1.6946 - accuracy: 0.4545\n",
      "Epoch 48/200\n",
      "1/1 - 0s - loss: 1.6757 - accuracy: 0.4545\n",
      "Epoch 49/200\n",
      "1/1 - 0s - loss: 1.6568 - accuracy: 0.4545\n",
      "Epoch 50/200\n",
      "1/1 - 0s - loss: 1.6378 - accuracy: 0.4545\n",
      "Epoch 51/200\n",
      "1/1 - 0s - loss: 1.6187 - accuracy: 0.4545\n",
      "Epoch 52/200\n",
      "1/1 - 0s - loss: 1.5995 - accuracy: 0.4545\n",
      "Epoch 53/200\n",
      "1/1 - 0s - loss: 1.5800 - accuracy: 0.4545\n",
      "Epoch 54/200\n",
      "1/1 - 0s - loss: 1.5602 - accuracy: 0.4545\n",
      "Epoch 55/200\n",
      "1/1 - 0s - loss: 1.5401 - accuracy: 0.4545\n",
      "Epoch 56/200\n",
      "1/1 - 0s - loss: 1.5197 - accuracy: 0.4545\n",
      "Epoch 57/200\n",
      "1/1 - 0s - loss: 1.4989 - accuracy: 0.4545\n",
      "Epoch 58/200\n",
      "1/1 - 0s - loss: 1.4779 - accuracy: 0.4545\n",
      "Epoch 59/200\n",
      "1/1 - 0s - loss: 1.4567 - accuracy: 0.4545\n",
      "Epoch 60/200\n",
      "1/1 - 0s - loss: 1.4353 - accuracy: 0.4545\n",
      "Epoch 61/200\n",
      "1/1 - 0s - loss: 1.4139 - accuracy: 0.4545\n",
      "Epoch 62/200\n",
      "1/1 - 0s - loss: 1.3924 - accuracy: 0.5455\n",
      "Epoch 63/200\n",
      "1/1 - 0s - loss: 1.3709 - accuracy: 0.5455\n",
      "Epoch 64/200\n",
      "1/1 - 0s - loss: 1.3496 - accuracy: 0.5455\n",
      "Epoch 65/200\n",
      "1/1 - 0s - loss: 1.3283 - accuracy: 0.5455\n",
      "Epoch 66/200\n",
      "1/1 - 0s - loss: 1.3071 - accuracy: 0.5455\n",
      "Epoch 67/200\n",
      "1/1 - 0s - loss: 1.2861 - accuracy: 0.5455\n",
      "Epoch 68/200\n",
      "1/1 - 0s - loss: 1.2652 - accuracy: 0.6364\n",
      "Epoch 69/200\n",
      "1/1 - 0s - loss: 1.2444 - accuracy: 0.6364\n",
      "Epoch 70/200\n",
      "1/1 - 0s - loss: 1.2237 - accuracy: 0.6364\n",
      "Epoch 71/200\n",
      "1/1 - 0s - loss: 1.2031 - accuracy: 0.6364\n",
      "Epoch 72/200\n",
      "1/1 - 0s - loss: 1.1826 - accuracy: 0.6364\n",
      "Epoch 73/200\n",
      "1/1 - 0s - loss: 1.1623 - accuracy: 0.6364\n",
      "Epoch 74/200\n",
      "1/1 - 0s - loss: 1.1421 - accuracy: 0.6364\n",
      "Epoch 75/200\n",
      "1/1 - 0s - loss: 1.1220 - accuracy: 0.6364\n",
      "Epoch 76/200\n",
      "1/1 - 0s - loss: 1.1021 - accuracy: 0.6364\n",
      "Epoch 77/200\n",
      "1/1 - 0s - loss: 1.0824 - accuracy: 0.6364\n",
      "Epoch 78/200\n",
      "1/1 - 0s - loss: 1.0629 - accuracy: 0.6364\n",
      "Epoch 79/200\n",
      "1/1 - 0s - loss: 1.0437 - accuracy: 0.6364\n",
      "Epoch 80/200\n",
      "1/1 - 0s - loss: 1.0246 - accuracy: 0.6364\n",
      "Epoch 81/200\n",
      "1/1 - 0s - loss: 1.0058 - accuracy: 0.6364\n",
      "Epoch 82/200\n",
      "1/1 - 0s - loss: 0.9873 - accuracy: 0.6364\n",
      "Epoch 83/200\n",
      "1/1 - 0s - loss: 0.9690 - accuracy: 0.6364\n",
      "Epoch 84/200\n",
      "1/1 - 0s - loss: 0.9509 - accuracy: 0.6364\n",
      "Epoch 85/200\n",
      "1/1 - 0s - loss: 0.9331 - accuracy: 0.6364\n",
      "Epoch 86/200\n",
      "1/1 - 0s - loss: 0.9156 - accuracy: 0.7273\n",
      "Epoch 87/200\n",
      "1/1 - 0s - loss: 0.8982 - accuracy: 0.7273\n",
      "Epoch 88/200\n",
      "1/1 - 0s - loss: 0.8811 - accuracy: 0.7273\n",
      "Epoch 89/200\n",
      "1/1 - 0s - loss: 0.8642 - accuracy: 0.8182\n",
      "Epoch 90/200\n",
      "1/1 - 0s - loss: 0.8476 - accuracy: 0.8182\n",
      "Epoch 91/200\n",
      "1/1 - 0s - loss: 0.8312 - accuracy: 0.8182\n",
      "Epoch 92/200\n",
      "1/1 - 0s - loss: 0.8150 - accuracy: 0.8182\n",
      "Epoch 93/200\n",
      "1/1 - 0s - loss: 0.7990 - accuracy: 0.8182\n",
      "Epoch 94/200\n",
      "1/1 - 0s - loss: 0.7833 - accuracy: 0.8182\n",
      "Epoch 95/200\n",
      "1/1 - 0s - loss: 0.7678 - accuracy: 0.9091\n",
      "Epoch 96/200\n",
      "1/1 - 0s - loss: 0.7525 - accuracy: 0.9091\n",
      "Epoch 97/200\n",
      "1/1 - 0s - loss: 0.7375 - accuracy: 0.9091\n",
      "Epoch 98/200\n",
      "1/1 - 0s - loss: 0.7226 - accuracy: 0.9091\n",
      "Epoch 99/200\n",
      "1/1 - 0s - loss: 0.7079 - accuracy: 0.9091\n",
      "Epoch 100/200\n",
      "1/1 - 0s - loss: 0.6935 - accuracy: 0.9091\n",
      "Epoch 101/200\n",
      "1/1 - 0s - loss: 0.6792 - accuracy: 0.9091\n",
      "Epoch 102/200\n",
      "1/1 - 0s - loss: 0.6652 - accuracy: 0.9091\n",
      "Epoch 103/200\n",
      "1/1 - 0s - loss: 0.6513 - accuracy: 0.9091\n",
      "Epoch 104/200\n",
      "1/1 - 0s - loss: 0.6376 - accuracy: 0.9091\n",
      "Epoch 105/200\n",
      "1/1 - 0s - loss: 0.6242 - accuracy: 0.9091\n",
      "Epoch 106/200\n",
      "1/1 - 0s - loss: 0.6109 - accuracy: 0.9091\n",
      "Epoch 107/200\n",
      "1/1 - 0s - loss: 0.5979 - accuracy: 0.9091\n",
      "Epoch 108/200\n",
      "1/1 - 0s - loss: 0.5850 - accuracy: 0.9091\n",
      "Epoch 109/200\n",
      "1/1 - 0s - loss: 0.5724 - accuracy: 0.9091\n",
      "Epoch 110/200\n",
      "1/1 - 0s - loss: 0.5600 - accuracy: 0.9091\n",
      "Epoch 111/200\n",
      "1/1 - 0s - loss: 0.5478 - accuracy: 0.9091\n",
      "Epoch 112/200\n",
      "1/1 - 0s - loss: 0.5358 - accuracy: 0.9091\n",
      "Epoch 113/200\n",
      "1/1 - 0s - loss: 0.5240 - accuracy: 0.9091\n",
      "Epoch 114/200\n",
      "1/1 - 0s - loss: 0.5124 - accuracy: 0.9091\n",
      "Epoch 115/200\n",
      "1/1 - 0s - loss: 0.5010 - accuracy: 0.9091\n",
      "Epoch 116/200\n",
      "1/1 - 0s - loss: 0.4899 - accuracy: 0.9091\n",
      "Epoch 117/200\n",
      "1/1 - 0s - loss: 0.4790 - accuracy: 0.9091\n",
      "Epoch 118/200\n",
      "1/1 - 0s - loss: 0.4683 - accuracy: 0.9091\n",
      "Epoch 119/200\n",
      "1/1 - 0s - loss: 0.4578 - accuracy: 0.9091\n",
      "Epoch 120/200\n",
      "1/1 - 0s - loss: 0.4475 - accuracy: 0.9091\n",
      "Epoch 121/200\n",
      "1/1 - 0s - loss: 0.4375 - accuracy: 0.9091\n",
      "Epoch 122/200\n",
      "1/1 - 0s - loss: 0.4277 - accuracy: 0.9091\n",
      "Epoch 123/200\n",
      "1/1 - 0s - loss: 0.4180 - accuracy: 0.9091\n",
      "Epoch 124/200\n",
      "1/1 - 0s - loss: 0.4087 - accuracy: 0.9091\n",
      "Epoch 125/200\n",
      "1/1 - 0s - loss: 0.3995 - accuracy: 0.9091\n",
      "Epoch 126/200\n",
      "1/1 - 0s - loss: 0.3905 - accuracy: 0.9091\n",
      "Epoch 127/200\n",
      "1/1 - 0s - loss: 0.3818 - accuracy: 0.9091\n",
      "Epoch 128/200\n",
      "1/1 - 0s - loss: 0.3732 - accuracy: 1.0000\n",
      "Epoch 129/200\n",
      "1/1 - 0s - loss: 0.3649 - accuracy: 1.0000\n",
      "Epoch 130/200\n",
      "1/1 - 0s - loss: 0.3568 - accuracy: 1.0000\n",
      "Epoch 131/200\n",
      "1/1 - 0s - loss: 0.3489 - accuracy: 1.0000\n",
      "Epoch 132/200\n",
      "1/1 - 0s - loss: 0.3411 - accuracy: 1.0000\n",
      "Epoch 133/200\n",
      "1/1 - 0s - loss: 0.3336 - accuracy: 1.0000\n",
      "Epoch 134/200\n",
      "1/1 - 0s - loss: 0.3263 - accuracy: 1.0000\n",
      "Epoch 135/200\n",
      "1/1 - 0s - loss: 0.3191 - accuracy: 1.0000\n",
      "Epoch 136/200\n",
      "1/1 - 0s - loss: 0.3121 - accuracy: 1.0000\n",
      "Epoch 137/200\n",
      "1/1 - 0s - loss: 0.3054 - accuracy: 1.0000\n",
      "Epoch 138/200\n",
      "1/1 - 0s - loss: 0.2987 - accuracy: 1.0000\n",
      "Epoch 139/200\n",
      "1/1 - 0s - loss: 0.2923 - accuracy: 1.0000\n",
      "Epoch 140/200\n",
      "1/1 - 0s - loss: 0.2860 - accuracy: 1.0000\n",
      "Epoch 141/200\n",
      "1/1 - 0s - loss: 0.2799 - accuracy: 1.0000\n",
      "Epoch 142/200\n",
      "1/1 - 0s - loss: 0.2739 - accuracy: 1.0000\n",
      "Epoch 143/200\n",
      "1/1 - 0s - loss: 0.2681 - accuracy: 1.0000\n",
      "Epoch 144/200\n",
      "1/1 - 0s - loss: 0.2625 - accuracy: 1.0000\n",
      "Epoch 145/200\n",
      "1/1 - 0s - loss: 0.2570 - accuracy: 1.0000\n",
      "Epoch 146/200\n",
      "1/1 - 0s - loss: 0.2516 - accuracy: 1.0000\n"
     ]
    },
    {
     "name": "stdout",
     "output_type": "stream",
     "text": [
      "Epoch 147/200\n",
      "1/1 - 0s - loss: 0.2464 - accuracy: 1.0000\n",
      "Epoch 148/200\n",
      "1/1 - 0s - loss: 0.2413 - accuracy: 1.0000\n",
      "Epoch 149/200\n",
      "1/1 - 0s - loss: 0.2363 - accuracy: 1.0000\n",
      "Epoch 150/200\n",
      "1/1 - 0s - loss: 0.2315 - accuracy: 1.0000\n",
      "Epoch 151/200\n",
      "1/1 - 0s - loss: 0.2267 - accuracy: 1.0000\n",
      "Epoch 152/200\n",
      "1/1 - 0s - loss: 0.2221 - accuracy: 1.0000\n",
      "Epoch 153/200\n",
      "1/1 - 0s - loss: 0.2176 - accuracy: 1.0000\n",
      "Epoch 154/200\n",
      "1/1 - 0s - loss: 0.2133 - accuracy: 1.0000\n",
      "Epoch 155/200\n",
      "1/1 - 0s - loss: 0.2090 - accuracy: 1.0000\n",
      "Epoch 156/200\n",
      "1/1 - 0s - loss: 0.2048 - accuracy: 1.0000\n",
      "Epoch 157/200\n",
      "1/1 - 0s - loss: 0.2007 - accuracy: 1.0000\n",
      "Epoch 158/200\n",
      "1/1 - 0s - loss: 0.1968 - accuracy: 1.0000\n",
      "Epoch 159/200\n",
      "1/1 - 0s - loss: 0.1929 - accuracy: 1.0000\n",
      "Epoch 160/200\n",
      "1/1 - 0s - loss: 0.1891 - accuracy: 1.0000\n",
      "Epoch 161/200\n",
      "1/1 - 0s - loss: 0.1854 - accuracy: 1.0000\n",
      "Epoch 162/200\n",
      "1/1 - 0s - loss: 0.1818 - accuracy: 1.0000\n",
      "Epoch 163/200\n",
      "1/1 - 0s - loss: 0.1783 - accuracy: 1.0000\n",
      "Epoch 164/200\n",
      "1/1 - 0s - loss: 0.1748 - accuracy: 1.0000\n",
      "Epoch 165/200\n",
      "1/1 - 0s - loss: 0.1715 - accuracy: 1.0000\n",
      "Epoch 166/200\n",
      "1/1 - 0s - loss: 0.1682 - accuracy: 1.0000\n",
      "Epoch 167/200\n",
      "1/1 - 0s - loss: 0.1650 - accuracy: 1.0000\n",
      "Epoch 168/200\n",
      "1/1 - 0s - loss: 0.1618 - accuracy: 1.0000\n",
      "Epoch 169/200\n",
      "1/1 - 0s - loss: 0.1588 - accuracy: 1.0000\n",
      "Epoch 170/200\n",
      "1/1 - 0s - loss: 0.1558 - accuracy: 1.0000\n",
      "Epoch 171/200\n",
      "1/1 - 0s - loss: 0.1529 - accuracy: 1.0000\n",
      "Epoch 172/200\n",
      "1/1 - 0s - loss: 0.1500 - accuracy: 1.0000\n",
      "Epoch 173/200\n",
      "1/1 - 0s - loss: 0.1472 - accuracy: 1.0000\n",
      "Epoch 174/200\n",
      "1/1 - 0s - loss: 0.1445 - accuracy: 1.0000\n",
      "Epoch 175/200\n",
      "1/1 - 0s - loss: 0.1418 - accuracy: 1.0000\n",
      "Epoch 176/200\n",
      "1/1 - 0s - loss: 0.1392 - accuracy: 1.0000\n",
      "Epoch 177/200\n",
      "1/1 - 0s - loss: 0.1367 - accuracy: 1.0000\n",
      "Epoch 178/200\n",
      "1/1 - 0s - loss: 0.1342 - accuracy: 1.0000\n",
      "Epoch 179/200\n",
      "1/1 - 0s - loss: 0.1318 - accuracy: 1.0000\n",
      "Epoch 180/200\n",
      "1/1 - 0s - loss: 0.1294 - accuracy: 1.0000\n",
      "Epoch 181/200\n",
      "1/1 - 0s - loss: 0.1271 - accuracy: 1.0000\n",
      "Epoch 182/200\n",
      "1/1 - 0s - loss: 0.1248 - accuracy: 1.0000\n",
      "Epoch 183/200\n",
      "1/1 - 0s - loss: 0.1226 - accuracy: 1.0000\n",
      "Epoch 184/200\n",
      "1/1 - 0s - loss: 0.1205 - accuracy: 1.0000\n",
      "Epoch 185/200\n",
      "1/1 - 0s - loss: 0.1183 - accuracy: 1.0000\n",
      "Epoch 186/200\n",
      "1/1 - 0s - loss: 0.1163 - accuracy: 1.0000\n",
      "Epoch 187/200\n",
      "1/1 - 0s - loss: 0.1143 - accuracy: 1.0000\n",
      "Epoch 188/200\n",
      "1/1 - 0s - loss: 0.1123 - accuracy: 1.0000\n",
      "Epoch 189/200\n",
      "1/1 - 0s - loss: 0.1104 - accuracy: 1.0000\n",
      "Epoch 190/200\n",
      "1/1 - 0s - loss: 0.1085 - accuracy: 1.0000\n",
      "Epoch 191/200\n",
      "1/1 - 0s - loss: 0.1066 - accuracy: 1.0000\n",
      "Epoch 192/200\n",
      "1/1 - 0s - loss: 0.1048 - accuracy: 1.0000\n",
      "Epoch 193/200\n",
      "1/1 - 0s - loss: 0.1031 - accuracy: 1.0000\n",
      "Epoch 194/200\n",
      "1/1 - 0s - loss: 0.1014 - accuracy: 1.0000\n",
      "Epoch 195/200\n",
      "1/1 - 0s - loss: 0.0997 - accuracy: 1.0000\n",
      "Epoch 196/200\n",
      "1/1 - 0s - loss: 0.0980 - accuracy: 1.0000\n",
      "Epoch 197/200\n",
      "1/1 - 0s - loss: 0.0964 - accuracy: 1.0000\n",
      "Epoch 198/200\n",
      "1/1 - 0s - loss: 0.0949 - accuracy: 1.0000\n",
      "Epoch 199/200\n",
      "1/1 - 0s - loss: 0.0933 - accuracy: 1.0000\n",
      "Epoch 200/200\n",
      "1/1 - 0s - loss: 0.0918 - accuracy: 1.0000\n"
     ]
    },
    {
     "data": {
      "text/plain": [
       "<tensorflow.python.keras.callbacks.History at 0x2093bed5e80>"
      ]
     },
     "execution_count": 25,
     "metadata": {},
     "output_type": "execute_result"
    }
   ],
   "source": [
    "# ------ 2. 모델 설계하기 ------\n",
    "from tensorflow.keras.models import Sequential\n",
    "from tensorflow.keras.layers import Embedding, Dense, SimpleRNN\n",
    "\n",
    "model = Sequential()\n",
    "model.add(Embedding(vocab_size, 10, input_length=max_len-1))\n",
    "model.add(SimpleRNN(32))\n",
    "model.add(Dense(vocab_size, activation='softmax'))\n",
    "model.compile(optimizer='adam', loss='categorical_crossentropy', metrics=['accuracy'])\n",
    "model.fit(X, y, epochs=200, verbose=2)\n"
   ]
  },
  {
   "cell_type": "code",
   "execution_count": 31,
   "metadata": {},
   "outputs": [
    {
     "data": {
      "text/plain": [
       "array([1, 4], dtype=int64)"
      ]
     },
     "execution_count": 31,
     "metadata": {},
     "output_type": "execute_result"
    }
   ],
   "source": [
    "model.predict_classes([10, 1])"
   ]
  },
  {
   "cell_type": "code",
   "execution_count": 48,
   "metadata": {},
   "outputs": [],
   "source": [
    "def sentence_generation(model, t, current_word, n):\n",
    "    init_word = current_word\n",
    "    sentence = ''\n",
    "    for _ in range(n):\n",
    "        encoded = t.texts_to_sequences([current_word])[0]\n",
    "        encoded = pad_sequences([encoded], maxlen=5, padding='pre')\n",
    "        print(encoded)\n",
    "        result = model.predict_classes(encoded, verbose=0)\n",
    "        for word, index in t.word_index.items():\n",
    "            if index == result:\n",
    "                current_word = current_word + ' ' + word\n",
    "                break\n",
    "        sentence = sentence + ' ' + word\n",
    "    sentence = init_word + sentence\n",
    "    return sentence"
   ]
  },
  {
   "cell_type": "code",
   "execution_count": 49,
   "metadata": {},
   "outputs": [
    {
     "name": "stdout",
     "output_type": "stream",
     "text": [
      "[[0 0 0 0 6]]\n",
      "[[0 0 0 6 1]]\n",
      "그의 말이 법이다\n"
     ]
    }
   ],
   "source": [
    "print(sentence_generation(model, t, '그의', 2))"
   ]
  },
  {
   "cell_type": "code",
   "execution_count": 52,
   "metadata": {},
   "outputs": [
    {
     "name": "stdout",
     "output_type": "stream",
     "text": [
      "[[0 0 0 0 2]]\n",
      "[[0 0 0 2 3]]\n",
      "[[0 0 2 3 1]]\n",
      "[[0 2 3 1 4]]\n",
      "경마장에 있는 말이 뛰고 있다\n"
     ]
    }
   ],
   "source": [
    "print(sentence_generation(model, t, '경마장에', 4))"
   ]
  },
  {
   "cell_type": "code",
   "execution_count": null,
   "metadata": {},
   "outputs": [],
   "source": []
  }
 ],
 "metadata": {
  "jupytext": {
   "formats": "ipynb,auto:light"
  },
  "kernelspec": {
   "display_name": "Python 3",
   "language": "python",
   "name": "python3"
  },
  "language_info": {
   "codemirror_mode": {
    "name": "ipython",
    "version": 3
   },
   "file_extension": ".py",
   "mimetype": "text/x-python",
   "name": "python",
   "nbconvert_exporter": "python",
   "pygments_lexer": "ipython3",
   "version": "3.8.3"
  }
 },
 "nbformat": 4,
 "nbformat_minor": 4
}
